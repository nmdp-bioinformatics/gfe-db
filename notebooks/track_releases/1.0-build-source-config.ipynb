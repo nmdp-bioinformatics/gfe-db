{
 "cells": [
  {
   "attachments": {},
   "cell_type": "markdown",
   "metadata": {},
   "source": [
    "# Build Source Config\n",
    "```json\n",
    "{\n",
    "    \"created_at_utc\": \"2022-04-14T11:00:42Z\",\n",
    "    \"updated_at_utc\": \"2023-04-25T01:50:12Z\",\n",
    "    \"repositories\": {\n",
    "        \"ANHIG/IMGTHLA\": {\n",
    "            \"owner\": \"ANHIG\",\n",
    "            \"name\": \"IMGTHLA\",\n",
    "            \"url\": \"https://github.com/ANHIG/IMGTHLA\",\n",
    "            \"tracked_assets\": [\n",
    "                \"hla.dat\",\n",
    "                \"msf/\"\n",
    "            ],\n",
    "            \"default_input_parameters\": {\n",
    "                \"align\": \"False\",\n",
    "                \"kir\": \"False\",\n",
    "                \"mem_profile\": \"False\",\n",
    "                \"limit\": \"1000\"\n",
    "            },\n",
    "            \"execution_history\": [\n",
    "                {\n",
    "                    \"version\": 3480,\n",
    "                    \"execution_date_utc\": \"2022-04-14T11:00:42Z\",\n",
    "                    \"commit\": {\n",
    "                        \"sha\": \"ecd63776c6225af0cf8bcc9fa9c6998d3129fb14\",\n",
    "                        \"message\": \"<message>\",\n",
    "                        \"date_utc\": \"2022-04-14T11:00:42Z\",\n",
    "                        \"html_url\": \"url\"\n",
    "                    },\n",
    "                    \"input_parameters\": {\n",
    "                        \"align\": \"False\",\n",
    "                        \"kir\": \"False\",\n",
    "                        \"mem_profile\": \"False\",\n",
    "                        \"limit\": \"1000\"\n",
    "                    },\n",
    "                    \"status\": \"SUCCESS\"                    \n",
    "                },\n",
    "                {\n",
    "                    \"version\": 3470,\n",
    "                    \"execution_date_utc\": \"2022-01-13T16:52:15Z\",\n",
    "                    \"commit\": {\n",
    "                        \"sha\": \"06ceff14b2db920d458dc337b1100dced992e627\",\n",
    "                        \"message\": \"<message>\",\n",
    "                        \"date_utc\": \"2022-01-13T16:52:15Z\",\n",
    "                        \"html_url\": \"url\"\n",
    "                    },\n",
    "                    \"input_parameters\": {\n",
    "                        \"align\": \"False\",\n",
    "                        \"kir\": \"False\",\n",
    "                        \"mem_profile\": \"False\",\n",
    "                        \"limit\": \"1000\"\n",
    "                    },\n",
    "                    \"status\": \"SUCCESS\"\n",
    "                }\n",
    "            ]\n",
    "        }\n",
    "    }\n",
    "}\n",
    "```"
   ]
  },
  {
   "cell_type": "code",
   "execution_count": 1,
   "metadata": {},
   "outputs": [
    {
     "ename": "ModuleNotFoundError",
     "evalue": "No module named 'src'",
     "output_type": "error",
     "traceback": [
      "\u001b[0;31m---------------------------------------------------------------------------\u001b[0m",
      "\u001b[0;31mModuleNotFoundError\u001b[0m                       Traceback (most recent call last)",
      "\u001b[1;32m/Users/ammon/Projects/nmdp-bioinformatics/02-Repositories/gfe-db/notebooks/track_releases/1.0-build-source-config.ipynb Cell 2\u001b[0m line \u001b[0;36m1\n\u001b[1;32m      <a href='vscode-notebook-cell:/Users/ammon/Projects/nmdp-bioinformatics/02-Repositories/gfe-db/notebooks/track_releases/1.0-build-source-config.ipynb#W1sZmlsZQ%3D%3D?line=8'>9</a>\u001b[0m \u001b[39mimport\u001b[39;00m \u001b[39mpandas\u001b[39;00m \u001b[39mas\u001b[39;00m \u001b[39mpd\u001b[39;00m\n\u001b[1;32m     <a href='vscode-notebook-cell:/Users/ammon/Projects/nmdp-bioinformatics/02-Repositories/gfe-db/notebooks/track_releases/1.0-build-source-config.ipynb#W1sZmlsZQ%3D%3D?line=9'>10</a>\u001b[0m \u001b[39mfrom\u001b[39;00m \u001b[39mbotocore\u001b[39;00m\u001b[39m.\u001b[39;00m\u001b[39mexceptions\u001b[39;00m \u001b[39mimport\u001b[39;00m ClientError\n\u001b[0;32m---> <a href='vscode-notebook-cell:/Users/ammon/Projects/nmdp-bioinformatics/02-Repositories/gfe-db/notebooks/track_releases/1.0-build-source-config.ipynb#W1sZmlsZQ%3D%3D?line=10'>11</a>\u001b[0m \u001b[39mfrom\u001b[39;00m \u001b[39msrc\u001b[39;00m\u001b[39m.\u001b[39;00m\u001b[39mutils\u001b[39;00m\u001b[39m.\u001b[39;00m\u001b[39mtypes\u001b[39;00m \u001b[39mimport\u001b[39;00m (\n\u001b[1;32m     <a href='vscode-notebook-cell:/Users/ammon/Projects/nmdp-bioinformatics/02-Repositories/gfe-db/notebooks/track_releases/1.0-build-source-config.ipynb#W1sZmlsZQ%3D%3D?line=11'>12</a>\u001b[0m     Commit,\n\u001b[1;32m     <a href='vscode-notebook-cell:/Users/ammon/Projects/nmdp-bioinformatics/02-Repositories/gfe-db/notebooks/track_releases/1.0-build-source-config.ipynb#W1sZmlsZQ%3D%3D?line=12'>13</a>\u001b[0m     InputParameters,\n\u001b[1;32m     <a href='vscode-notebook-cell:/Users/ammon/Projects/nmdp-bioinformatics/02-Repositories/gfe-db/notebooks/track_releases/1.0-build-source-config.ipynb#W1sZmlsZQ%3D%3D?line=13'>14</a>\u001b[0m     ExecutionHistoryItem,\n\u001b[1;32m     <a href='vscode-notebook-cell:/Users/ammon/Projects/nmdp-bioinformatics/02-Repositories/gfe-db/notebooks/track_releases/1.0-build-source-config.ipynb#W1sZmlsZQ%3D%3D?line=14'>15</a>\u001b[0m     RepositoryConfig,\n\u001b[1;32m     <a href='vscode-notebook-cell:/Users/ammon/Projects/nmdp-bioinformatics/02-Repositories/gfe-db/notebooks/track_releases/1.0-build-source-config.ipynb#W1sZmlsZQ%3D%3D?line=15'>16</a>\u001b[0m     SourceConfig\n\u001b[1;32m     <a href='vscode-notebook-cell:/Users/ammon/Projects/nmdp-bioinformatics/02-Repositories/gfe-db/notebooks/track_releases/1.0-build-source-config.ipynb#W1sZmlsZQ%3D%3D?line=16'>17</a>\u001b[0m )\n\u001b[1;32m     <a href='vscode-notebook-cell:/Users/ammon/Projects/nmdp-bioinformatics/02-Repositories/gfe-db/notebooks/track_releases/1.0-build-source-config.ipynb#W1sZmlsZQ%3D%3D?line=17'>18</a>\u001b[0m \u001b[39mfrom\u001b[39;00m \u001b[39msrc\u001b[39;00m\u001b[39m.\u001b[39;00m\u001b[39mutils\u001b[39;00m \u001b[39mimport\u001b[39;00m (\n\u001b[1;32m     <a href='vscode-notebook-cell:/Users/ammon/Projects/nmdp-bioinformatics/02-Repositories/gfe-db/notebooks/track_releases/1.0-build-source-config.ipynb#W1sZmlsZQ%3D%3D?line=18'>19</a>\u001b[0m     read_source_config,\n\u001b[1;32m     <a href='vscode-notebook-cell:/Users/ammon/Projects/nmdp-bioinformatics/02-Repositories/gfe-db/notebooks/track_releases/1.0-build-source-config.ipynb#W1sZmlsZQ%3D%3D?line=19'>20</a>\u001b[0m     paginate_commits,\n\u001b[1;32m     <a href='vscode-notebook-cell:/Users/ammon/Projects/nmdp-bioinformatics/02-Repositories/gfe-db/notebooks/track_releases/1.0-build-source-config.ipynb#W1sZmlsZQ%3D%3D?line=20'>21</a>\u001b[0m     flatten_json,\n\u001b[1;32m     <a href='vscode-notebook-cell:/Users/ammon/Projects/nmdp-bioinformatics/02-Repositories/gfe-db/notebooks/track_releases/1.0-build-source-config.ipynb#W1sZmlsZQ%3D%3D?line=21'>22</a>\u001b[0m     get_repo_asset\n\u001b[1;32m     <a href='vscode-notebook-cell:/Users/ammon/Projects/nmdp-bioinformatics/02-Repositories/gfe-db/notebooks/track_releases/1.0-build-source-config.ipynb#W1sZmlsZQ%3D%3D?line=22'>23</a>\u001b[0m )\n\u001b[1;32m     <a href='vscode-notebook-cell:/Users/ammon/Projects/nmdp-bioinformatics/02-Repositories/gfe-db/notebooks/track_releases/1.0-build-source-config.ipynb#W1sZmlsZQ%3D%3D?line=24'>25</a>\u001b[0m \u001b[39m# logging\u001b[39;00m\n",
      "\u001b[0;31mModuleNotFoundError\u001b[0m: No module named 'src'"
     ]
    }
   ],
   "source": [
    "import os\n",
    "import sys\n",
    "sys.path.append('/Users/ammon/Projects/nmdp-bioinformatics/02-Repositories/gfe-db/gfe-db/pipeline/functions/get_repo_updates/')\n",
    "import logging\n",
    "from datetime import datetime\n",
    "utc_now = datetime.utcnow().strftime(\"%Y-%m-%dT%H:%M:%SZ\")\n",
    "import re\n",
    "import json\n",
    "import pandas as pd\n",
    "from botocore.exceptions import ClientError\n",
    "from src.utils.types import (\n",
    "    Commit,\n",
    "    InputParameters,\n",
    "    ExecutionHistoryItem,\n",
    "    RepositoryConfig,\n",
    "    SourceConfig\n",
    ")\n",
    "from src.utils import (\n",
    "    read_source_config,\n",
    "    paginate_commits,\n",
    "    flatten_json,\n",
    "    get_repo_asset\n",
    ")\n",
    "\n",
    "# logging\n",
    "logging.basicConfig(level=logging.INFO)\n",
    "logger = logging.getLogger(__name__)\n",
    "\n",
    "# Pandas display options\n",
    "pd.set_option('display.max_rows', None)\n",
    "pd.set_option('display.max_columns', None)\n",
    "pd.set_option('display.max_colwidth', None)\n",
    "pd.set_option('display.width', None)"
   ]
  },
  {
   "cell_type": "code",
   "execution_count": 2,
   "metadata": {},
   "outputs": [
    {
     "data": {
      "text/plain": [
       "'2023-04-25T02:35:07Z'"
      ]
     },
     "execution_count": 2,
     "metadata": {},
     "output_type": "execute_result"
    }
   ],
   "source": [
    "utc_now"
   ]
  },
  {
   "cell_type": "code",
   "execution_count": 3,
   "metadata": {},
   "outputs": [],
   "source": [
    "GITHUB_REPOSITORY_OWNER = \"ANHIG\" # os.environ[\"GITHUB_REPOSITORY_OWNER\"]\n",
    "GITHUB_REPOSITORY_NAME = \"IMGTHLA\" # os.environ[\"GITHUB_REPOSITORY_NAME\"]\n",
    "AWS_REGION = os.environ[\"AWS_REGION\"]\n",
    "DATA_BUCKET_NAME = os.environ[\"DATA_BUCKET_NAME\"]\n",
    "PIPELINE_CONFIG_S3_PATH = os.environ[\"PIPELINE_CONFIG_S3_PATH\"]"
   ]
  },
  {
   "attachments": {},
   "cell_type": "markdown",
   "metadata": {},
   "source": [
    "### App State"
   ]
  },
  {
   "cell_type": "code",
   "execution_count": 4,
   "metadata": {},
   "outputs": [
    {
     "name": "stderr",
     "output_type": "stream",
     "text": [
      "ERROR:src.utils.utils:Failed to read config file to s3://dev-gfe-db-531868584498-us-east-1/config/pipeline/source-config.json\n",
      "INFO:__main__:'source-config.json' not found. Building source config from repository.\n"
     ]
    }
   ],
   "source": [
    "# source config file in S3 must be up to date\n",
    "try:\n",
    "    source_config = read_source_config(DATA_BUCKET_NAME, PIPELINE_CONFIG_S3_PATH)\n",
    "except ClientError as e:\n",
    "    logger.info(\"'source-config.json' not found. Building source config from repository.\")"
   ]
  },
  {
   "attachments": {},
   "cell_type": "markdown",
   "metadata": {},
   "source": [
    "## Commits"
   ]
  },
  {
   "cell_type": "code",
   "execution_count": 5,
   "metadata": {},
   "outputs": [],
   "source": [
    "# Fetch all commits from repo using GitHub API\n",
    "all_commits = paginate_commits(GITHUB_REPOSITORY_OWNER, GITHUB_REPOSITORY_NAME)"
   ]
  },
  {
   "cell_type": "code",
   "execution_count": 6,
   "metadata": {},
   "outputs": [],
   "source": [
    "select_keys = [\"sha\", \"commit\", \"html_url\"]\n",
    "\n",
    "# filter by select_keys\n",
    "all_commits = [{k: v for k, v in x.items() if k in select_keys} for x in all_commits]"
   ]
  },
  {
   "cell_type": "code",
   "execution_count": 7,
   "metadata": {},
   "outputs": [],
   "source": [
    "# all_commits[0]"
   ]
  },
  {
   "cell_type": "code",
   "execution_count": 8,
   "metadata": {},
   "outputs": [],
   "source": [
    "# # For reference only, not using pandas in deployment\n",
    "# select_cols = [\"sha\", \"commit.author.date\", \"commit.message\", \"html_url\"]\n",
    "# df = pd.DataFrame([flatten_json(commit) for commit in all_commits])[select_cols]"
   ]
  },
  {
   "cell_type": "code",
   "execution_count": 9,
   "metadata": {},
   "outputs": [],
   "source": [
    "# df.head()"
   ]
  },
  {
   "cell_type": "code",
   "execution_count": 10,
   "metadata": {},
   "outputs": [],
   "source": [
    "all_commits_flat = [flatten_json(commit) for commit in all_commits]"
   ]
  },
  {
   "cell_type": "code",
   "execution_count": 11,
   "metadata": {},
   "outputs": [],
   "source": [
    "select_keys = [\"sha\", \"commit.author.date\", \"commit.message\", \"html_url\"]\n",
    "all_commits_flat = [{k: v for k, v in x.items() if k in select_keys} for x in all_commits_flat]"
   ]
  },
  {
   "cell_type": "code",
   "execution_count": 12,
   "metadata": {},
   "outputs": [],
   "source": [
    "# rename keys\n",
    "rename_keys = {\n",
    "    \"sha\": \"sha\", \n",
    "    \"commit.author.date\": \"date_utc\", \n",
    "    \"commit.message\": \"message\", \n",
    "    \"html_url\": \"html_url\"\n",
    "}\n",
    "\n",
    "# Rename\n",
    "commits = [{rename_keys[k]: v for k, v in x.items()} for x in all_commits_flat]"
   ]
  },
  {
   "cell_type": "code",
   "execution_count": 13,
   "metadata": {},
   "outputs": [
    {
     "data": {
      "text/plain": [
       "{'sha': '38398a75e9762ff070d8e9bd714d074332646cd7',\n",
       " 'date_utc': '2023-04-17T16:03:52Z',\n",
       " 'message': 'Merge pull request #334 from ANHIG/3520\\n\\nIPD-IMGT/HLA Release 3.52.0',\n",
       " 'html_url': 'https://github.com/ANHIG/IMGTHLA/commit/38398a75e9762ff070d8e9bd714d074332646cd7'}"
      ]
     },
     "execution_count": 13,
     "metadata": {},
     "output_type": "execute_result"
    }
   ],
   "source": [
    "commits[0]"
   ]
  },
  {
   "attachments": {},
   "cell_type": "markdown",
   "metadata": {},
   "source": [
    "## Execution History Items"
   ]
  },
  {
   "cell_type": "code",
   "execution_count": 14,
   "metadata": {},
   "outputs": [
    {
     "ename": "KeyboardInterrupt",
     "evalue": "",
     "output_type": "error",
     "traceback": [
      "\u001b[0;31m---------------------------------------------------------------------------\u001b[0m",
      "\u001b[0;31mKeyboardInterrupt\u001b[0m                         Traceback (most recent call last)",
      "Cell \u001b[0;32mIn[14], line 12\u001b[0m\n\u001b[1;32m     10\u001b[0m date \u001b[39m=\u001b[39m commit[\u001b[39m'\u001b[39m\u001b[39mdate_utc\u001b[39m\u001b[39m'\u001b[39m]\n\u001b[1;32m     11\u001b[0m logger\u001b[39m.\u001b[39mdebug(\u001b[39mf\u001b[39m\u001b[39m\"\u001b[39m\u001b[39mGetting release version for sha \u001b[39m\u001b[39m{\u001b[39;00msha\u001b[39m}\u001b[39;00m\u001b[39m and date \u001b[39m\u001b[39m{\u001b[39;00mdate\u001b[39m}\u001b[39;00m\u001b[39m\"\u001b[39m)\n\u001b[0;32m---> 12\u001b[0m allele_list \u001b[39m=\u001b[39m get_repo_asset(GITHUB_REPOSITORY_OWNER, GITHUB_REPOSITORY_NAME, \u001b[39m\"\u001b[39;49m\u001b[39mAllelelist.txt\u001b[39;49m\u001b[39m\"\u001b[39;49m, sha)\n\u001b[1;32m     13\u001b[0m release_version \u001b[39m=\u001b[39m \u001b[39mint\u001b[39m(re\u001b[39m.\u001b[39msearch(release_version_re, allele_list)\u001b[39m.\u001b[39mgroup(\u001b[39m1\u001b[39m)\u001b[39m.\u001b[39mreplace(\u001b[39m\"\u001b[39m\u001b[39m.\u001b[39m\u001b[39m\"\u001b[39m, \u001b[39m\"\u001b[39m\u001b[39m\"\u001b[39m))\n\u001b[1;32m     15\u001b[0m execution_history_items\u001b[39m.\u001b[39mappend({\n\u001b[1;32m     16\u001b[0m     \u001b[39m\"\u001b[39m\u001b[39mversion\u001b[39m\u001b[39m\"\u001b[39m: release_version,\n\u001b[1;32m     17\u001b[0m     \u001b[39m\"\u001b[39m\u001b[39mexecution_date_utc\u001b[39m\u001b[39m\"\u001b[39m: \u001b[39mNone\u001b[39;00m,\n\u001b[0;32m   (...)\u001b[0m\n\u001b[1;32m     20\u001b[0m     \u001b[39m\"\u001b[39m\u001b[39mstatus\u001b[39m\u001b[39m\"\u001b[39m: \u001b[39mNone\u001b[39;00m\n\u001b[1;32m     21\u001b[0m })\n",
      "File \u001b[0;32m~/Projects/nmdp-bioinformatics/02-Repositories/gfe-db/gfe-db/pipeline/functions/get_repo_updates/src/utils/utils.py:235\u001b[0m, in \u001b[0;36mget_repo_asset\u001b[0;34m(owner, repo, path, commit_sha)\u001b[0m\n\u001b[1;32m    233\u001b[0m \u001b[39mdef\u001b[39;00m \u001b[39mget_repo_asset\u001b[39m(owner, repo, path, commit_sha\u001b[39m=\u001b[39m\u001b[39mNone\u001b[39;00m):\n\u001b[1;32m    234\u001b[0m \u001b[39m    \u001b[39m\u001b[39m\"\"\"Download a file from a GitHub repository\"\"\"\u001b[39;00m\n\u001b[0;32m--> 235\u001b[0m     repo_contents \u001b[39m=\u001b[39m get_repo_contents(owner, repo, path, commit_sha)\n\u001b[1;32m    237\u001b[0m     \u001b[39mtry\u001b[39;00m:\n\u001b[1;32m    238\u001b[0m         res \u001b[39m=\u001b[39m requests\u001b[39m.\u001b[39mget(repo_contents[\u001b[39m'\u001b[39m\u001b[39mdownload_url\u001b[39m\u001b[39m'\u001b[39m])\n",
      "File \u001b[0;32m~/Projects/nmdp-bioinformatics/02-Repositories/gfe-db/gfe-db/pipeline/functions/get_repo_updates/src/utils/utils.py:228\u001b[0m, in \u001b[0;36mget_repo_contents\u001b[0;34m(owner, repo, path, commit_sha)\u001b[0m\n\u001b[1;32m    217\u001b[0m headers \u001b[39m=\u001b[39m {\n\u001b[1;32m    218\u001b[0m     \u001b[39m'\u001b[39m\u001b[39mAuthorization\u001b[39m\u001b[39m'\u001b[39m: \u001b[39mf\u001b[39m\u001b[39m'\u001b[39m\u001b[39mtoken \u001b[39m\u001b[39m{\u001b[39;00mGITHUB_PERSONAL_ACCESS_TOKEN\u001b[39m}\u001b[39;00m\u001b[39m'\u001b[39m,\n\u001b[1;32m    219\u001b[0m     \u001b[39m'\u001b[39m\u001b[39mContent-Type\u001b[39m\u001b[39m'\u001b[39m: \u001b[39m'\u001b[39m\u001b[39mapplication/json\u001b[39m\u001b[39m'\u001b[39m,\n\u001b[1;32m    220\u001b[0m     \u001b[39m'\u001b[39m\u001b[39mAccept\u001b[39m\u001b[39m'\u001b[39m: \u001b[39m'\u001b[39m\u001b[39mapplication/vnd.github.v3+json\u001b[39m\u001b[39m'\u001b[39m,\n\u001b[1;32m    221\u001b[0m     \u001b[39m'\u001b[39m\u001b[39mX-GitHub-Api-Version\u001b[39m\u001b[39m'\u001b[39m: \u001b[39m'\u001b[39m\u001b[39m2022-11-28\u001b[39m\u001b[39m'\u001b[39m\n\u001b[1;32m    222\u001b[0m }\n\u001b[1;32m    224\u001b[0m params \u001b[39m=\u001b[39m {\n\u001b[1;32m    225\u001b[0m     \u001b[39m'\u001b[39m\u001b[39mref\u001b[39m\u001b[39m'\u001b[39m: commit_sha\n\u001b[1;32m    226\u001b[0m }\n\u001b[0;32m--> 228\u001b[0m response \u001b[39m=\u001b[39m requests\u001b[39m.\u001b[39;49mget(url, headers\u001b[39m=\u001b[39;49mheaders, params\u001b[39m=\u001b[39;49mparams)\n\u001b[1;32m    230\u001b[0m \u001b[39mreturn\u001b[39;00m response\u001b[39m.\u001b[39mjson()\n",
      "File \u001b[0;32m~/Projects/nmdp-bioinformatics/02-Repositories/gfe-db/.venv-dev/lib/python3.9/site-packages/requests/api.py:75\u001b[0m, in \u001b[0;36mget\u001b[0;34m(url, params, **kwargs)\u001b[0m\n\u001b[1;32m     64\u001b[0m \u001b[39m\u001b[39m\u001b[39mr\u001b[39m\u001b[39m\"\"\"Sends a GET request.\u001b[39;00m\n\u001b[1;32m     65\u001b[0m \n\u001b[1;32m     66\u001b[0m \u001b[39m:param url: URL for the new :class:`Request` object.\u001b[39;00m\n\u001b[0;32m   (...)\u001b[0m\n\u001b[1;32m     71\u001b[0m \u001b[39m:rtype: requests.Response\u001b[39;00m\n\u001b[1;32m     72\u001b[0m \u001b[39m\"\"\"\u001b[39;00m\n\u001b[1;32m     74\u001b[0m kwargs\u001b[39m.\u001b[39msetdefault(\u001b[39m'\u001b[39m\u001b[39mallow_redirects\u001b[39m\u001b[39m'\u001b[39m, \u001b[39mTrue\u001b[39;00m)\n\u001b[0;32m---> 75\u001b[0m \u001b[39mreturn\u001b[39;00m request(\u001b[39m'\u001b[39;49m\u001b[39mget\u001b[39;49m\u001b[39m'\u001b[39;49m, url, params\u001b[39m=\u001b[39;49mparams, \u001b[39m*\u001b[39;49m\u001b[39m*\u001b[39;49mkwargs)\n",
      "File \u001b[0;32m~/Projects/nmdp-bioinformatics/02-Repositories/gfe-db/.venv-dev/lib/python3.9/site-packages/requests/api.py:60\u001b[0m, in \u001b[0;36mrequest\u001b[0;34m(method, url, **kwargs)\u001b[0m\n\u001b[1;32m     56\u001b[0m \u001b[39m# By using the 'with' statement we are sure the session is closed, thus we\u001b[39;00m\n\u001b[1;32m     57\u001b[0m \u001b[39m# avoid leaving sockets open which can trigger a ResourceWarning in some\u001b[39;00m\n\u001b[1;32m     58\u001b[0m \u001b[39m# cases, and look like a memory leak in others.\u001b[39;00m\n\u001b[1;32m     59\u001b[0m \u001b[39mwith\u001b[39;00m sessions\u001b[39m.\u001b[39mSession() \u001b[39mas\u001b[39;00m session:\n\u001b[0;32m---> 60\u001b[0m     \u001b[39mreturn\u001b[39;00m session\u001b[39m.\u001b[39;49mrequest(method\u001b[39m=\u001b[39;49mmethod, url\u001b[39m=\u001b[39;49murl, \u001b[39m*\u001b[39;49m\u001b[39m*\u001b[39;49mkwargs)\n",
      "File \u001b[0;32m~/Projects/nmdp-bioinformatics/02-Repositories/gfe-db/.venv-dev/lib/python3.9/site-packages/requests/sessions.py:533\u001b[0m, in \u001b[0;36mSession.request\u001b[0;34m(self, method, url, params, data, headers, cookies, files, auth, timeout, allow_redirects, proxies, hooks, stream, verify, cert, json)\u001b[0m\n\u001b[1;32m    528\u001b[0m send_kwargs \u001b[39m=\u001b[39m {\n\u001b[1;32m    529\u001b[0m     \u001b[39m'\u001b[39m\u001b[39mtimeout\u001b[39m\u001b[39m'\u001b[39m: timeout,\n\u001b[1;32m    530\u001b[0m     \u001b[39m'\u001b[39m\u001b[39mallow_redirects\u001b[39m\u001b[39m'\u001b[39m: allow_redirects,\n\u001b[1;32m    531\u001b[0m }\n\u001b[1;32m    532\u001b[0m send_kwargs\u001b[39m.\u001b[39mupdate(settings)\n\u001b[0;32m--> 533\u001b[0m resp \u001b[39m=\u001b[39m \u001b[39mself\u001b[39;49m\u001b[39m.\u001b[39;49msend(prep, \u001b[39m*\u001b[39;49m\u001b[39m*\u001b[39;49msend_kwargs)\n\u001b[1;32m    535\u001b[0m \u001b[39mreturn\u001b[39;00m resp\n",
      "File \u001b[0;32m~/Projects/nmdp-bioinformatics/02-Repositories/gfe-db/.venv-dev/lib/python3.9/site-packages/requests/sessions.py:686\u001b[0m, in \u001b[0;36mSession.send\u001b[0;34m(self, request, **kwargs)\u001b[0m\n\u001b[1;32m    683\u001b[0m         \u001b[39mpass\u001b[39;00m\n\u001b[1;32m    685\u001b[0m \u001b[39mif\u001b[39;00m \u001b[39mnot\u001b[39;00m stream:\n\u001b[0;32m--> 686\u001b[0m     r\u001b[39m.\u001b[39;49mcontent\n\u001b[1;32m    688\u001b[0m \u001b[39mreturn\u001b[39;00m r\n",
      "File \u001b[0;32m~/Projects/nmdp-bioinformatics/02-Repositories/gfe-db/.venv-dev/lib/python3.9/site-packages/requests/models.py:828\u001b[0m, in \u001b[0;36mResponse.content\u001b[0;34m(self)\u001b[0m\n\u001b[1;32m    826\u001b[0m         \u001b[39mself\u001b[39m\u001b[39m.\u001b[39m_content \u001b[39m=\u001b[39m \u001b[39mNone\u001b[39;00m\n\u001b[1;32m    827\u001b[0m     \u001b[39melse\u001b[39;00m:\n\u001b[0;32m--> 828\u001b[0m         \u001b[39mself\u001b[39m\u001b[39m.\u001b[39m_content \u001b[39m=\u001b[39m \u001b[39mb\u001b[39;49m\u001b[39m'\u001b[39;49m\u001b[39m'\u001b[39;49m\u001b[39m.\u001b[39;49mjoin(\u001b[39mself\u001b[39;49m\u001b[39m.\u001b[39;49miter_content(CONTENT_CHUNK_SIZE)) \u001b[39mor\u001b[39;00m \u001b[39mb\u001b[39m\u001b[39m'\u001b[39m\u001b[39m'\u001b[39m\n\u001b[1;32m    830\u001b[0m \u001b[39mself\u001b[39m\u001b[39m.\u001b[39m_content_consumed \u001b[39m=\u001b[39m \u001b[39mTrue\u001b[39;00m\n\u001b[1;32m    831\u001b[0m \u001b[39m# don't need to release the connection; that's been handled by urllib3\u001b[39;00m\n\u001b[1;32m    832\u001b[0m \u001b[39m# since we exhausted the data.\u001b[39;00m\n",
      "File \u001b[0;32m~/Projects/nmdp-bioinformatics/02-Repositories/gfe-db/.venv-dev/lib/python3.9/site-packages/requests/models.py:750\u001b[0m, in \u001b[0;36mResponse.iter_content.<locals>.generate\u001b[0;34m()\u001b[0m\n\u001b[1;32m    748\u001b[0m \u001b[39mif\u001b[39;00m \u001b[39mhasattr\u001b[39m(\u001b[39mself\u001b[39m\u001b[39m.\u001b[39mraw, \u001b[39m'\u001b[39m\u001b[39mstream\u001b[39m\u001b[39m'\u001b[39m):\n\u001b[1;32m    749\u001b[0m     \u001b[39mtry\u001b[39;00m:\n\u001b[0;32m--> 750\u001b[0m         \u001b[39mfor\u001b[39;00m chunk \u001b[39min\u001b[39;00m \u001b[39mself\u001b[39m\u001b[39m.\u001b[39mraw\u001b[39m.\u001b[39mstream(chunk_size, decode_content\u001b[39m=\u001b[39m\u001b[39mTrue\u001b[39;00m):\n\u001b[1;32m    751\u001b[0m             \u001b[39myield\u001b[39;00m chunk\n\u001b[1;32m    752\u001b[0m     \u001b[39mexcept\u001b[39;00m ProtocolError \u001b[39mas\u001b[39;00m e:\n",
      "File \u001b[0;32m~/Projects/nmdp-bioinformatics/02-Repositories/gfe-db/.venv-dev/lib/python3.9/site-packages/urllib3/response.py:492\u001b[0m, in \u001b[0;36mHTTPResponse.stream\u001b[0;34m(self, amt, decode_content)\u001b[0m\n\u001b[1;32m    476\u001b[0m \u001b[39m\u001b[39m\u001b[39m\"\"\"\u001b[39;00m\n\u001b[1;32m    477\u001b[0m \u001b[39mA generator wrapper for the read() method. A call will block until\u001b[39;00m\n\u001b[1;32m    478\u001b[0m \u001b[39m``amt`` bytes have been read from the connection or until the\u001b[39;00m\n\u001b[0;32m   (...)\u001b[0m\n\u001b[1;32m    489\u001b[0m \u001b[39m    'content-encoding' header.\u001b[39;00m\n\u001b[1;32m    490\u001b[0m \u001b[39m\"\"\"\u001b[39;00m\n\u001b[1;32m    491\u001b[0m \u001b[39mif\u001b[39;00m \u001b[39mself\u001b[39m\u001b[39m.\u001b[39mchunked \u001b[39mand\u001b[39;00m \u001b[39mself\u001b[39m\u001b[39m.\u001b[39msupports_chunked_reads():\n\u001b[0;32m--> 492\u001b[0m     \u001b[39mfor\u001b[39;00m line \u001b[39min\u001b[39;00m \u001b[39mself\u001b[39m\u001b[39m.\u001b[39mread_chunked(amt, decode_content\u001b[39m=\u001b[39mdecode_content):\n\u001b[1;32m    493\u001b[0m         \u001b[39myield\u001b[39;00m line\n\u001b[1;32m    494\u001b[0m \u001b[39melse\u001b[39;00m:\n",
      "File \u001b[0;32m~/Projects/nmdp-bioinformatics/02-Repositories/gfe-db/.venv-dev/lib/python3.9/site-packages/urllib3/response.py:671\u001b[0m, in \u001b[0;36mHTTPResponse.read_chunked\u001b[0;34m(self, amt, decode_content)\u001b[0m\n\u001b[1;32m    669\u001b[0m \u001b[39mif\u001b[39;00m \u001b[39mself\u001b[39m\u001b[39m.\u001b[39mchunk_left \u001b[39m==\u001b[39m \u001b[39m0\u001b[39m:\n\u001b[1;32m    670\u001b[0m     \u001b[39mbreak\u001b[39;00m\n\u001b[0;32m--> 671\u001b[0m chunk \u001b[39m=\u001b[39m \u001b[39mself\u001b[39;49m\u001b[39m.\u001b[39;49m_handle_chunk(amt)\n\u001b[1;32m    672\u001b[0m decoded \u001b[39m=\u001b[39m \u001b[39mself\u001b[39m\u001b[39m.\u001b[39m_decode(chunk, decode_content\u001b[39m=\u001b[39mdecode_content,\n\u001b[1;32m    673\u001b[0m                        flush_decoder\u001b[39m=\u001b[39m\u001b[39mFalse\u001b[39;00m)\n\u001b[1;32m    674\u001b[0m \u001b[39mif\u001b[39;00m decoded:\n",
      "File \u001b[0;32m~/Projects/nmdp-bioinformatics/02-Repositories/gfe-db/.venv-dev/lib/python3.9/site-packages/urllib3/response.py:617\u001b[0m, in \u001b[0;36mHTTPResponse._handle_chunk\u001b[0;34m(self, amt)\u001b[0m\n\u001b[1;32m    615\u001b[0m     \u001b[39mself\u001b[39m\u001b[39m.\u001b[39mchunk_left \u001b[39m=\u001b[39m \u001b[39mNone\u001b[39;00m\n\u001b[1;32m    616\u001b[0m \u001b[39melif\u001b[39;00m amt \u001b[39m<\u001b[39m \u001b[39mself\u001b[39m\u001b[39m.\u001b[39mchunk_left:\n\u001b[0;32m--> 617\u001b[0m     value \u001b[39m=\u001b[39m \u001b[39mself\u001b[39;49m\u001b[39m.\u001b[39;49m_fp\u001b[39m.\u001b[39;49m_safe_read(amt)\n\u001b[1;32m    618\u001b[0m     \u001b[39mself\u001b[39m\u001b[39m.\u001b[39mchunk_left \u001b[39m=\u001b[39m \u001b[39mself\u001b[39m\u001b[39m.\u001b[39mchunk_left \u001b[39m-\u001b[39m amt\n\u001b[1;32m    619\u001b[0m     returned_chunk \u001b[39m=\u001b[39m value\n",
      "File \u001b[0;32m/opt/homebrew/Cellar/python@3.9/3.9.16/Frameworks/Python.framework/Versions/3.9/lib/python3.9/http/client.py:626\u001b[0m, in \u001b[0;36mHTTPResponse._safe_read\u001b[0;34m(self, amt)\u001b[0m\n\u001b[1;32m    624\u001b[0m s \u001b[39m=\u001b[39m []\n\u001b[1;32m    625\u001b[0m \u001b[39mwhile\u001b[39;00m amt \u001b[39m>\u001b[39m \u001b[39m0\u001b[39m:\n\u001b[0;32m--> 626\u001b[0m     chunk \u001b[39m=\u001b[39m \u001b[39mself\u001b[39;49m\u001b[39m.\u001b[39;49mfp\u001b[39m.\u001b[39;49mread(\u001b[39mmin\u001b[39;49m(amt, MAXAMOUNT))\n\u001b[1;32m    627\u001b[0m     \u001b[39mif\u001b[39;00m \u001b[39mnot\u001b[39;00m chunk:\n\u001b[1;32m    628\u001b[0m         \u001b[39mraise\u001b[39;00m IncompleteRead(\u001b[39mb\u001b[39m\u001b[39m'\u001b[39m\u001b[39m'\u001b[39m\u001b[39m.\u001b[39mjoin(s), amt)\n",
      "File \u001b[0;32m/opt/homebrew/Cellar/python@3.9/3.9.16/Frameworks/Python.framework/Versions/3.9/lib/python3.9/socket.py:704\u001b[0m, in \u001b[0;36mSocketIO.readinto\u001b[0;34m(self, b)\u001b[0m\n\u001b[1;32m    702\u001b[0m \u001b[39mwhile\u001b[39;00m \u001b[39mTrue\u001b[39;00m:\n\u001b[1;32m    703\u001b[0m     \u001b[39mtry\u001b[39;00m:\n\u001b[0;32m--> 704\u001b[0m         \u001b[39mreturn\u001b[39;00m \u001b[39mself\u001b[39;49m\u001b[39m.\u001b[39;49m_sock\u001b[39m.\u001b[39;49mrecv_into(b)\n\u001b[1;32m    705\u001b[0m     \u001b[39mexcept\u001b[39;00m timeout:\n\u001b[1;32m    706\u001b[0m         \u001b[39mself\u001b[39m\u001b[39m.\u001b[39m_timeout_occurred \u001b[39m=\u001b[39m \u001b[39mTrue\u001b[39;00m\n",
      "File \u001b[0;32m/opt/homebrew/Cellar/python@3.9/3.9.16/Frameworks/Python.framework/Versions/3.9/lib/python3.9/ssl.py:1242\u001b[0m, in \u001b[0;36mSSLSocket.recv_into\u001b[0;34m(self, buffer, nbytes, flags)\u001b[0m\n\u001b[1;32m   1238\u001b[0m     \u001b[39mif\u001b[39;00m flags \u001b[39m!=\u001b[39m \u001b[39m0\u001b[39m:\n\u001b[1;32m   1239\u001b[0m         \u001b[39mraise\u001b[39;00m \u001b[39mValueError\u001b[39;00m(\n\u001b[1;32m   1240\u001b[0m           \u001b[39m\"\u001b[39m\u001b[39mnon-zero flags not allowed in calls to recv_into() on \u001b[39m\u001b[39m%s\u001b[39;00m\u001b[39m\"\u001b[39m \u001b[39m%\u001b[39m\n\u001b[1;32m   1241\u001b[0m           \u001b[39mself\u001b[39m\u001b[39m.\u001b[39m\u001b[39m__class__\u001b[39m)\n\u001b[0;32m-> 1242\u001b[0m     \u001b[39mreturn\u001b[39;00m \u001b[39mself\u001b[39;49m\u001b[39m.\u001b[39;49mread(nbytes, buffer)\n\u001b[1;32m   1243\u001b[0m \u001b[39melse\u001b[39;00m:\n\u001b[1;32m   1244\u001b[0m     \u001b[39mreturn\u001b[39;00m \u001b[39msuper\u001b[39m()\u001b[39m.\u001b[39mrecv_into(buffer, nbytes, flags)\n",
      "File \u001b[0;32m/opt/homebrew/Cellar/python@3.9/3.9.16/Frameworks/Python.framework/Versions/3.9/lib/python3.9/ssl.py:1100\u001b[0m, in \u001b[0;36mSSLSocket.read\u001b[0;34m(self, len, buffer)\u001b[0m\n\u001b[1;32m   1098\u001b[0m \u001b[39mtry\u001b[39;00m:\n\u001b[1;32m   1099\u001b[0m     \u001b[39mif\u001b[39;00m buffer \u001b[39mis\u001b[39;00m \u001b[39mnot\u001b[39;00m \u001b[39mNone\u001b[39;00m:\n\u001b[0;32m-> 1100\u001b[0m         \u001b[39mreturn\u001b[39;00m \u001b[39mself\u001b[39;49m\u001b[39m.\u001b[39;49m_sslobj\u001b[39m.\u001b[39;49mread(\u001b[39mlen\u001b[39;49m, buffer)\n\u001b[1;32m   1101\u001b[0m     \u001b[39melse\u001b[39;00m:\n\u001b[1;32m   1102\u001b[0m         \u001b[39mreturn\u001b[39;00m \u001b[39mself\u001b[39m\u001b[39m.\u001b[39m_sslobj\u001b[39m.\u001b[39mread(\u001b[39mlen\u001b[39m)\n",
      "\u001b[0;31mKeyboardInterrupt\u001b[0m: "
     ]
    }
   ],
   "source": [
    "# TODO use multithreading to speed up\n",
    "# next we get the release version for each commit\n",
    "release_version_re = r\"# version: IPD-IMGT/HLA (\\d+\\.\\d+\\.\\d+)\"\n",
    "execution_history_items = []\n",
    "errors = 0\n",
    "max_errors = 5\n",
    "limit = None\n",
    "for idx, commit in enumerate(commits):\n",
    "    try:\n",
    "        sha = commit['sha']\n",
    "        date = commit['date_utc']\n",
    "        logger.debug(f\"Getting release version for sha {sha} and date {date}\")\n",
    "        allele_list = get_repo_asset(GITHUB_REPOSITORY_OWNER, GITHUB_REPOSITORY_NAME, \"Allelelist.txt\", sha)\n",
    "        release_version = int(re.search(release_version_re, allele_list).group(1).replace(\".\", \"\"))\n",
    "\n",
    "        execution_history_items.append({\n",
    "            \"version\": release_version,\n",
    "            \"execution_date_utc\": None,\n",
    "            \"commit\": commit,\n",
    "            \"input_parameters\": None,\n",
    "            \"status\": None\n",
    "        })\n",
    "    except Exception as e:\n",
    "        errors += 1\n",
    "        logger.error(f\"Error processing commit {commit['sha']}: {e}\")\n",
    "        if errors >= max_errors:\n",
    "            logger.error(f\"Max errors reached. Exiting loop.\")\n",
    "            break\n",
    "\n",
    "    if limit is not None:\n",
    "        if idx+1 == limit:\n",
    "            break"
   ]
  },
  {
   "cell_type": "code",
   "execution_count": 15,
   "metadata": {},
   "outputs": [
    {
     "data": {
      "text/plain": [
       "39"
      ]
     },
     "execution_count": 15,
     "metadata": {},
     "output_type": "execute_result"
    }
   ],
   "source": [
    "len(execution_history_items)"
   ]
  },
  {
   "attachments": {},
   "cell_type": "markdown",
   "metadata": {},
   "source": [
    "## RepositoryConfig"
   ]
  },
  {
   "cell_type": "code",
   "execution_count": 16,
   "metadata": {},
   "outputs": [
    {
     "data": {
      "text/plain": [
       "'ANHIG/IMGTHLA'"
      ]
     },
     "execution_count": 16,
     "metadata": {},
     "output_type": "execute_result"
    }
   ],
   "source": [
    "repository_path = f\"{GITHUB_REPOSITORY_OWNER}/{GITHUB_REPOSITORY_NAME}\"\n",
    "tracked_assets = [\"hla.dat\", \"msf/\"]\n",
    "repository_path\n"
   ]
  },
  {
   "cell_type": "code",
   "execution_count": 17,
   "metadata": {},
   "outputs": [],
   "source": [
    "base_source_config = {\n",
    "    \"created_at_utc\": utc_now,\n",
    "    \"updated_at_utc\": utc_now,\n",
    "    \"repositories\": {\n",
    "        repository_path: {\n",
    "            \"owner\": GITHUB_REPOSITORY_OWNER,\n",
    "            \"name\": GITHUB_REPOSITORY_NAME,\n",
    "            \"url\": f\"https://github.com/{repository_path}\",\n",
    "            \"tracked_assets\": tracked_assets,\n",
    "            \"default_input_parameters\": {\n",
    "                \"align\": \"False\",\n",
    "                \"kir\": \"False\",\n",
    "                \"mem_profile\": \"False\",\n",
    "                \"limit\": \"1000\"\n",
    "            }\n",
    "        }\n",
    "    }\n",
    "}"
   ]
  },
  {
   "cell_type": "code",
   "execution_count": 18,
   "metadata": {},
   "outputs": [
    {
     "data": {
      "text/plain": [
       "{'created_at_utc': '2023-04-25T02:35:07Z',\n",
       " 'updated_at_utc': '2023-04-25T02:35:07Z',\n",
       " 'repositories': {'ANHIG/IMGTHLA': {'owner': 'ANHIG',\n",
       "   'name': 'IMGTHLA',\n",
       "   'url': 'https://github.com/ANHIG/IMGTHLA',\n",
       "   'tracked_assets': ['hla.dat', 'msf/'],\n",
       "   'default_input_parameters': {'align': 'False',\n",
       "    'kir': 'False',\n",
       "    'mem_profile': 'False',\n",
       "    'limit': '1000'}}}}"
      ]
     },
     "execution_count": 18,
     "metadata": {},
     "output_type": "execute_result"
    }
   ],
   "source": [
    "base_source_config"
   ]
  },
  {
   "cell_type": "code",
   "execution_count": 19,
   "metadata": {},
   "outputs": [],
   "source": [
    "base_source_config[\"repositories\"][repository_path][\"execution_history\"] = execution_history_items"
   ]
  },
  {
   "cell_type": "code",
   "execution_count": 20,
   "metadata": {},
   "outputs": [],
   "source": [
    "source_config = SourceConfig(**base_source_config)"
   ]
  },
  {
   "cell_type": "code",
   "execution_count": 21,
   "metadata": {},
   "outputs": [
    {
     "data": {
      "text/plain": [
       "SourceConfig(created_at_utc='2023-04-25T02:35:07Z', updated_at_utc='2023-04-25T02:35:07Z', repositories={'ANHIG/IMGTHLA': RepositoryConfig(owner='ANHIG', name='IMGTHLA', url='https://github.com/ANHIG/IMGTHLA', tracked_assets=['hla.dat', 'msf/'], default_input_parameters=InputParameters(align=False, kir=False, mem_profile=False, limit='1000'), execution_history=[ExecutionHistoryItem(version=3520, execution_date_utc=None, commit=Commit(sha='38398a75e9762ff070d8e9bd714d074332646cd7', date_utc='2023-04-17T16:03:52Z', message='Merge pull request #334 from ANHIG/3520\\n\\nIPD-IMGT/HLA Release 3.52.0', html_url='https://github.com/ANHIG/IMGTHLA/commit/38398a75e9762ff070d8e9bd714d074332646cd7'), input_parameters=None, status=None), ExecutionHistoryItem(version=3520, execution_date_utc=None, commit=Commit(sha='def376dc6955b339b17f0a4b840e80eb6b9c744b', date_utc='2023-04-17T16:01:01Z', message='IPD-IMGT/HLA Release 3.52.0', html_url='https://github.com/ANHIG/IMGTHLA/commit/def376dc6955b339b17f0a4b840e80eb6b9c744b'), input_parameters=None, status=None), ExecutionHistoryItem(version=3510, execution_date_utc=None, commit=Commit(sha='5f2c562056f8ffa89aeea0631f2a52300ee0de17', date_utc='2023-01-13T10:04:48Z', message='Merge pull request #325 from ANHIG/3510\\n\\n3510', html_url='https://github.com/ANHIG/IMGTHLA/commit/5f2c562056f8ffa89aeea0631f2a52300ee0de17'), input_parameters=None, status=None), ExecutionHistoryItem(version=3510, execution_date_utc=None, commit=Commit(sha='4b8432c7d56121c84d6ef1d75a1c7185c628c13d', date_utc='2023-01-12T14:47:00Z', message='IPD-IMGT/HLA Database Release 3.51.0\\n\\nUpdated the ihiw folder for 3.51.0', html_url='https://github.com/ANHIG/IMGTHLA/commit/4b8432c7d56121c84d6ef1d75a1c7185c628c13d'), input_parameters=None, status=None), ExecutionHistoryItem(version=3510, execution_date_utc=None, commit=Commit(sha='4486f5c623705c6a14d9eeaba7d155cff30cdb43', date_utc='2023-01-12T14:36:43Z', message='IPD-IMGT/HLA Release 3.51.0\\n\\nUpdates for 3.51.0', html_url='https://github.com/ANHIG/IMGTHLA/commit/4486f5c623705c6a14d9eeaba7d155cff30cdb43'), input_parameters=None, status=None), ExecutionHistoryItem(version=3500, execution_date_utc=None, commit=Commit(sha='50b790037030d958b662085c3f4cf34ba72a32ec', date_utc='2022-12-14T10:02:54Z', message='Merge pull request #323 from ANHIG/3500\\n\\nCorrected missing date and version field in Allelelist_history.txt', html_url='https://github.com/ANHIG/IMGTHLA/commit/50b790037030d958b662085c3f4cf34ba72a32ec'), input_parameters=None, status=None), ExecutionHistoryItem(version=3500, execution_date_utc=None, commit=Commit(sha='36220a1c5c2d6954f4873a552544cc0e55b61d0a', date_utc='2022-12-14T10:02:28Z', message='Corrected missing date and version field in Allelelist_history.txt', html_url='https://github.com/ANHIG/IMGTHLA/commit/36220a1c5c2d6954f4873a552544cc0e55b61d0a'), input_parameters=None, status=None), ExecutionHistoryItem(version=3500, execution_date_utc=None, commit=Commit(sha='e941759874365cb152a3562c22d10847d10db326', date_utc='2022-10-14T08:47:37Z', message='Merge pull request #318 from ANHIG/3500\\n\\nhla.dat file for IPD-IMGT/HLA Release 3.50.0', html_url='https://github.com/ANHIG/IMGTHLA/commit/e941759874365cb152a3562c22d10847d10db326'), input_parameters=None, status=None), ExecutionHistoryItem(version=3500, execution_date_utc=None, commit=Commit(sha='2d38d3313229fdc5f8aa00052a2db21b35be3d2d', date_utc='2022-10-14T08:46:01Z', message='hla.dat file for IPD-IMGT/HLA Release 3.50.0', html_url='https://github.com/ANHIG/IMGTHLA/commit/2d38d3313229fdc5f8aa00052a2db21b35be3d2d'), input_parameters=None, status=None), ExecutionHistoryItem(version=3500, execution_date_utc=None, commit=Commit(sha='1ce31fc9e2805034578eff60a269c02176f03252', date_utc='2022-10-13T13:06:12Z', message='Merge pull request #317 from ANHIG/3500\\n\\nIPD-IMGT/HLA Release 3.50.0', html_url='https://github.com/ANHIG/IMGTHLA/commit/1ce31fc9e2805034578eff60a269c02176f03252'), input_parameters=None, status=None), ExecutionHistoryItem(version=3500, execution_date_utc=None, commit=Commit(sha='2c631a4b61d529ff1c0635750888f6f6d79c2703', date_utc='2022-10-13T12:58:37Z', message='IPD-IMGT/HLA Release 3.50.0', html_url='https://github.com/ANHIG/IMGTHLA/commit/2c631a4b61d529ff1c0635750888f6f6d79c2703'), input_parameters=None, status=None), ExecutionHistoryItem(version=3490, execution_date_utc=None, commit=Commit(sha='12b4b94bb49b4640fa48a1182cc9b1e1fbf7e816', date_utc='2022-08-25T15:44:07Z', message='Merge pull request #315 from ANHIG/3490\\n\\nRemoval of duplicate \"KW   Human MHC;\" in hla.dat; Removal of empty 3…', html_url='https://github.com/ANHIG/IMGTHLA/commit/12b4b94bb49b4640fa48a1182cc9b1e1fbf7e816'), input_parameters=None, status=None), ExecutionHistoryItem(version=3490, execution_date_utc=None, commit=Commit(sha='8f80f24d49797595d8a18b8d4d1f59846fbf3fe1', date_utc='2022-08-25T15:43:12Z', message='Removal of duplicate \"KW   Human MHC;\" in hla.dat; Removal of empty 3\\'UTR in DQB1*03:480Q', html_url='https://github.com/ANHIG/IMGTHLA/commit/8f80f24d49797595d8a18b8d4d1f59846fbf3fe1'), input_parameters=None, status=None), ExecutionHistoryItem(version=3490, execution_date_utc=None, commit=Commit(sha='a9680a9e80e2c119d4aa41f90e5f40cef6e7df02', date_utc='2022-08-21T09:31:21Z', message='Merge pull request #314 from ANHIG/3490\\n\\nCorrected DRA*01:01:01:01 P group (DRA*01:01P)', html_url='https://github.com/ANHIG/IMGTHLA/commit/a9680a9e80e2c119d4aa41f90e5f40cef6e7df02'), input_parameters=None, status=None), ExecutionHistoryItem(version=3490, execution_date_utc=None, commit=Commit(sha='1fd937e6c0ff8452f64152aec9632f0586f981d1', date_utc='2022-08-21T09:29:01Z', message='Corrected DRA*01:01:01:01 P group (DRA*01:01P)', html_url='https://github.com/ANHIG/IMGTHLA/commit/1fd937e6c0ff8452f64152aec9632f0586f981d1'), input_parameters=None, status=None), ExecutionHistoryItem(version=3490, execution_date_utc=None, commit=Commit(sha='50e92c677f4cd547c32bb9305269a762a9595074', date_utc='2022-07-23T12:54:16Z', message='Merge pull request #310 from ANHIG/3490\\n\\nAdded additional space in DRB_prot.txt, DRB_nuc.txt and DRB1_gen.txt …', html_url='https://github.com/ANHIG/IMGTHLA/commit/50e92c677f4cd547c32bb9305269a762a9595074'), input_parameters=None, status=None), ExecutionHistoryItem(version=3490, execution_date_utc=None, commit=Commit(sha='8732e7d4739a911e01f69d2c5bda82ca15ca68a9', date_utc='2022-07-23T12:53:45Z', message='Added additional space in DRB_prot.txt, DRB_nuc.txt and DRB1_gen.txt due to DRB1*15:200:01:01N and DRB1*15:200:01:02N', html_url='https://github.com/ANHIG/IMGTHLA/commit/8732e7d4739a911e01f69d2c5bda82ca15ca68a9'), input_parameters=None, status=None), ExecutionHistoryItem(version=3490, execution_date_utc=None, commit=Commit(sha='536e8833f3be4bbcffbfba43cd0b3043c5bf4068', date_utc='2022-07-15T08:21:31Z', message='Merge pull request #308 from ANHIG/3490\\n\\n3490', html_url='https://github.com/ANHIG/IMGTHLA/commit/536e8833f3be4bbcffbfba43cd0b3043c5bf4068'), input_parameters=None, status=None), ExecutionHistoryItem(version=3490, execution_date_utc=None, commit=Commit(sha='c90cc62006b35061c8db4b6f8da1b86de7650b23', date_utc='2022-07-15T08:20:46Z', message=\"Merge branch 'Latest' into 3490\", html_url='https://github.com/ANHIG/IMGTHLA/commit/c90cc62006b35061c8db4b6f8da1b86de7650b23'), input_parameters=None, status=None), ExecutionHistoryItem(version=3490, execution_date_utc=None, commit=Commit(sha='1a3be9a5d01a414854ff3bfacd5257c14adeefa2', date_utc='2022-07-14T13:40:17Z', message='IPD-IMGT/HLA Release 3.49.0', html_url='https://github.com/ANHIG/IMGTHLA/commit/1a3be9a5d01a414854ff3bfacd5257c14adeefa2'), input_parameters=None, status=None), ExecutionHistoryItem(version=3490, execution_date_utc=None, commit=Commit(sha='4863b8f0a070d70836dfbdc00bdf70aa7bb66345', date_utc='2022-07-14T12:31:36Z', message='IPD-IMGT/HLA Release 3.49.0', html_url='https://github.com/ANHIG/IMGTHLA/commit/4863b8f0a070d70836dfbdc00bdf70aa7bb66345'), input_parameters=None, status=None), ExecutionHistoryItem(version=3480, execution_date_utc=None, commit=Commit(sha='72a9e28a52c9629dd63dfad5f215cdc562e2fd7e', date_utc='2022-07-14T12:28:41Z', message='IPD-IMGT/HLA Release 3.49.0', html_url='https://github.com/ANHIG/IMGTHLA/commit/72a9e28a52c9629dd63dfad5f215cdc562e2fd7e'), input_parameters=None, status=None), ExecutionHistoryItem(version=3480, execution_date_utc=None, commit=Commit(sha='dddc6afc29de895f4131693e17b3cc856ff23f8d', date_utc='2022-07-14T12:27:25Z', message='IPD-IMGT/HLA Release 3.49.0', html_url='https://github.com/ANHIG/IMGTHLA/commit/dddc6afc29de895f4131693e17b3cc856ff23f8d'), input_parameters=None, status=None), ExecutionHistoryItem(version=3480, execution_date_utc=None, commit=Commit(sha='d1dd2ac5e2b6a8abef9e33ed397807ece52a22fe', date_utc='2022-04-20T08:39:00Z', message='Merge pull request #305 from ANHIG/3480\\n\\nUpload of Allelelist_history.txt for IPD-IMGT/HLA Release 3.48.0', html_url='https://github.com/ANHIG/IMGTHLA/commit/d1dd2ac5e2b6a8abef9e33ed397807ece52a22fe'), input_parameters=None, status=None), ExecutionHistoryItem(version=3480, execution_date_utc=None, commit=Commit(sha='4d33035dd296826bbde200e17e5281910ac8be13', date_utc='2022-04-20T08:37:44Z', message='Upload of Allelelist_history.txt for IPD-IMGT/HLA Release 3.48.0', html_url='https://github.com/ANHIG/IMGTHLA/commit/4d33035dd296826bbde200e17e5281910ac8be13'), input_parameters=None, status=None), ExecutionHistoryItem(version=3480, execution_date_utc=None, commit=Commit(sha='4a13df461c42f970a099de77377f309995e7995c', date_utc='2022-04-19T08:30:24Z', message=\"Merge branch '3480' into Latest\", html_url='https://github.com/ANHIG/IMGTHLA/commit/4a13df461c42f970a099de77377f309995e7995c'), input_parameters=None, status=None), ExecutionHistoryItem(version=3480, execution_date_utc=None, commit=Commit(sha='5e1d9764c8e96749bc11d52807eea1f7cc38ce5c', date_utc='2022-04-14T11:01:59Z', message='Updated md5checksums', html_url='https://github.com/ANHIG/IMGTHLA/commit/5e1d9764c8e96749bc11d52807eea1f7cc38ce5c'), input_parameters=None, status=None), ExecutionHistoryItem(version=3480, execution_date_utc=None, commit=Commit(sha='ecd63776c6225af0cf8bcc9fa9c6998d3129fb14', date_utc='2022-04-14T11:00:42Z', message='IPD-IMGT/HLA Release 3.48.0', html_url='https://github.com/ANHIG/IMGTHLA/commit/ecd63776c6225af0cf8bcc9fa9c6998d3129fb14'), input_parameters=None, status=None), ExecutionHistoryItem(version=3470, execution_date_utc=None, commit=Commit(sha='cada41a6bfac5a8bf88ed2107a0b856b9b9785a0', date_utc='2022-03-15T14:27:59Z', message='Merge pull request #299 from ANHIG/3470\\n\\nUpdate to xml/hla.xml.zip correcting meta data', html_url='https://github.com/ANHIG/IMGTHLA/commit/cada41a6bfac5a8bf88ed2107a0b856b9b9785a0'), input_parameters=None, status=None), ExecutionHistoryItem(version=3470, execution_date_utc=None, commit=Commit(sha='db33aee5dc0b44251b64ff4c2e2f05d59e4e3a2d', date_utc='2022-03-15T14:27:31Z', message='Update to xml/hla.xml.zip correcting meta data', html_url='https://github.com/ANHIG/IMGTHLA/commit/db33aee5dc0b44251b64ff4c2e2f05d59e4e3a2d'), input_parameters=None, status=None), ExecutionHistoryItem(version=3470, execution_date_utc=None, commit=Commit(sha='207cdce7fef5dae54fdad4cc4f933ebd1ab13c5e', date_utc='2022-02-10T15:36:59Z', message='Merge pull request #296 from ANHIG/3470\\n\\nCorrection of HLA P Groups in hla.xml', html_url='https://github.com/ANHIG/IMGTHLA/commit/207cdce7fef5dae54fdad4cc4f933ebd1ab13c5e'), input_parameters=None, status=None), ExecutionHistoryItem(version=3470, execution_date_utc=None, commit=Commit(sha='8ab272288e81fa9a49fd4765579b066c2c03cc10', date_utc='2022-02-10T15:26:19Z', message='Correction of HLA P Groups in hla.xml', html_url='https://github.com/ANHIG/IMGTHLA/commit/8ab272288e81fa9a49fd4765579b066c2c03cc10'), input_parameters=None, status=None), ExecutionHistoryItem(version=3470, execution_date_utc=None, commit=Commit(sha='d4c410cd91618a8a74a7763598e499f6a8aa168b', date_utc='2022-01-14T15:25:23Z', message='Merge pull request #292 from ANHIG/3470\\n\\n3470', html_url='https://github.com/ANHIG/IMGTHLA/commit/d4c410cd91618a8a74a7763598e499f6a8aa168b'), input_parameters=None, status=None), ExecutionHistoryItem(version=3470, execution_date_utc=None, commit=Commit(sha='db46d2a0209720c5fa0ab8b03403f7009f69d2d6', date_utc='2022-01-14T12:27:52Z', message=\"Merge branch '3470' of github.com:ANHIG/IMGTHLA into 3470\", html_url='https://github.com/ANHIG/IMGTHLA/commit/db46d2a0209720c5fa0ab8b03403f7009f69d2d6'), input_parameters=None, status=None), ExecutionHistoryItem(version=3470, execution_date_utc=None, commit=Commit(sha='ebb3d8c6aa383567bb7794cacf745b1c82efbb7f', date_utc='2022-01-14T12:27:35Z', message='IPD-IMGT/HLA Release 3.47.0', html_url='https://github.com/ANHIG/IMGTHLA/commit/ebb3d8c6aa383567bb7794cacf745b1c82efbb7f'), input_parameters=None, status=None), ExecutionHistoryItem(version=3470, execution_date_utc=None, commit=Commit(sha='fc712c5a4dd00f534e845982a29f46a14e22b292', date_utc='2022-01-14T08:05:58Z', message='Update README.md\\n\\nUpdate sponsorship contact and malformed section header', html_url='https://github.com/ANHIG/IMGTHLA/commit/fc712c5a4dd00f534e845982a29f46a14e22b292'), input_parameters=None, status=None), ExecutionHistoryItem(version=3470, execution_date_utc=None, commit=Commit(sha='239bf68f403bbdbabb43fa0277040f4dda2b2aff', date_utc='2022-01-13T20:33:38Z', message='Merge pull request #291 from ANHIG/3470\\n\\n3470', html_url='https://github.com/ANHIG/IMGTHLA/commit/239bf68f403bbdbabb43fa0277040f4dda2b2aff'), input_parameters=None, status=None), ExecutionHistoryItem(version=3470, execution_date_utc=None, commit=Commit(sha='d86bdd9983424c792691269fa10e6f022ccf2191', date_utc='2022-01-13T16:53:03Z', message='IPD-IMGT/HLA Release 3.47.0', html_url='https://github.com/ANHIG/IMGTHLA/commit/d86bdd9983424c792691269fa10e6f022ccf2191'), input_parameters=None, status=None), ExecutionHistoryItem(version=3470, execution_date_utc=None, commit=Commit(sha='06ceff14b2db920d458dc337b1100dced992e627', date_utc='2022-01-13T16:52:15Z', message='IPD-IMGT/HLA Release 3.47.0', html_url='https://github.com/ANHIG/IMGTHLA/commit/06ceff14b2db920d458dc337b1100dced992e627'), input_parameters=None, status=None)])})"
      ]
     },
     "execution_count": 21,
     "metadata": {},
     "output_type": "execute_result"
    }
   ],
   "source": [
    "source_config"
   ]
  },
  {
   "cell_type": "code",
   "execution_count": 22,
   "metadata": {},
   "outputs": [],
   "source": [
    "# write config locally\n",
    "with open(\"source-config.json\", \"w\") as f:\n",
    "    json.dump(source_config.dict(), f, indent=4)"
   ]
  },
  {
   "cell_type": "code",
   "execution_count": null,
   "metadata": {},
   "outputs": [],
   "source": []
  }
 ],
 "metadata": {
  "kernelspec": {
   "display_name": ".venv",
   "language": "python",
   "name": "python3"
  },
  "language_info": {
   "codemirror_mode": {
    "name": "ipython",
    "version": 3
   },
   "file_extension": ".py",
   "mimetype": "text/x-python",
   "name": "python",
   "nbconvert_exporter": "python",
   "pygments_lexer": "ipython3",
   "version": "3.10.13"
  },
  "orig_nbformat": 4
 },
 "nbformat": 4,
 "nbformat_minor": 2
}
