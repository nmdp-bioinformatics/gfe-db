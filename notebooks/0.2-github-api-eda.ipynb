{
 "cells": [
  {
   "attachments": {},
   "cell_type": "markdown",
   "metadata": {},
   "source": [
    "# GitHub API EDA"
   ]
  },
  {
   "cell_type": "code",
   "execution_count": 1,
   "metadata": {},
   "outputs": [
    {
     "name": "stderr",
     "output_type": "stream",
     "text": [
      "/var/folders/8s/9sb2nsn913q7b4zz75fd_qf00000gn/T/ipykernel_12407/494911564.py:7: DeprecationWarning: \n",
      "Pyarrow will become a required dependency of pandas in the next major release of pandas (pandas 3.0),\n",
      "(to allow more performant data types, such as the Arrow string type, and better interoperability with other libraries)\n",
      "but was not found to be installed on your system.\n",
      "If this would cause problems for you,\n",
      "please provide us feedback at https://github.com/pandas-dev/pandas/issues/54466\n",
      "        \n",
      "  import pandas as pd\n"
     ]
    }
   ],
   "source": [
    "import os\n",
    "from dotenv import load_dotenv, find_dotenv\n",
    "load_dotenv('/Users/ammon/Projects/nmdp-bioinformatics/02-Repositories/gfe-db/.env.nmdpf');\n",
    "from itertools import chain, starmap\n",
    "import json\n",
    "import requests\n",
    "import pandas as pd\n",
    "\n",
    "# Pandas display options\n",
    "pd.set_option('display.max_rows', None)\n",
    "pd.set_option('display.max_columns', None)\n",
    "pd.set_option('display.max_colwidth', None)\n",
    "pd.set_option('display.width', None)"
   ]
  },
  {
   "cell_type": "code",
   "execution_count": 2,
   "metadata": {},
   "outputs": [
    {
     "data": {
      "text/plain": [
       "'/Users/ammon/Projects/nmdp-bioinformatics/02-Repositories/gfe-db/notebooks'"
      ]
     },
     "execution_count": 2,
     "metadata": {},
     "output_type": "execute_result"
    }
   ],
   "source": [
    "os.getcwd()"
   ]
  },
  {
   "cell_type": "code",
   "execution_count": 3,
   "metadata": {},
   "outputs": [],
   "source": [
    "# Environment variables\n",
    "AWS_REGION = os.environ[\"AWS_REGION\"] \n",
    "GITHUB_PERSONAL_ACCESS_TOKEN = os.environ[\"GITHUB_PERSONAL_ACCESS_TOKEN\"]\n",
    "GITHUB_REPOSITORY_OWNER = \"ANHIG\" # os.environ[\"GITHUB_REPOSITORY_OWNER\"]\n",
    "GITHUB_REPOSITORY_NAME = \"IMGTHLA\" # os.environ[\"GITHUB_REPOSITORY_NAME\"]\n"
   ]
  },
  {
   "cell_type": "code",
   "execution_count": 5,
   "metadata": {},
   "outputs": [],
   "source": [
    "def flatten_json(dictionary, sep='.', skip_fields=[]):\n",
    "    \"\"\"Flatten a nested json file. For a list of dictionaries, use this\n",
    "    inside a for loop before converting to pandas DataFrame.\"\"\"\n",
    "\n",
    "    def unpack(parent_key, parent_value):\n",
    "        \"\"\"Unpack one level of nesting in json file\"\"\"\n",
    "        # Unpack one level only!!!\n",
    "        \n",
    "        if isinstance(parent_value, dict):\n",
    "            for key, value in parent_value.items():\n",
    "                temp1 = parent_key + sep + key\n",
    "                yield temp1, value\n",
    "        elif isinstance(parent_value, list):\n",
    "            i = 0 \n",
    "            for value in parent_value:\n",
    "                temp2 = parent_key + sep +str(i) \n",
    "                i += 1\n",
    "                yield temp2, value\n",
    "        else:\n",
    "            yield parent_key, parent_value    \n",
    "\n",
    "\n",
    "    # Keep iterating until the termination condition is satisfied\n",
    "    while True:\n",
    "        # Keep unpacking the json file until all values are atomic elements (not dictionary or list)\n",
    "        dictionary = dict(chain.from_iterable(starmap(unpack, dictionary.items())))\n",
    "        # Terminate condition: not any value in the json file is dictionary or list\n",
    "        if not any(isinstance(value, dict) for value in dictionary.values()) and \\\n",
    "           not any(isinstance(value, list) for value in dictionary.values()):\n",
    "            break\n",
    "\n",
    "    return dictionary\n",
    "\n",
    "\n"
   ]
  },
  {
   "cell_type": "code",
   "execution_count": 6,
   "metadata": {},
   "outputs": [],
   "source": [
    "def get_commits(owner, repo, per_page=100):\n",
    "    \"\"\"Return a list of GitHub commits for the specified repository\"\"\"\n",
    "\n",
    "    base_url = 'https://api.github.com'\n",
    "\n",
    "    # Endpoint\n",
    "    endpoint = f'/repos/{owner}/{repo}/commits?per_page={per_page}'\n",
    "\n",
    "    url = base_url + endpoint\n",
    "\n",
    "    # Headers\n",
    "    headers = {\n",
    "        'Authorization': f'token {GITHUB_PERSONAL_ACCESS_TOKEN}',\n",
    "        'Content-Type': 'application/json',\n",
    "        'Accept': 'application/vnd.github.v3+json',\n",
    "        'X-GitHub-Api-Version': '2022-11-28'\n",
    "    }\n",
    "\n",
    "    response = requests.get(url, headers=headers)\n",
    "\n",
    "    return response.json()"
   ]
  },
  {
   "cell_type": "code",
   "execution_count": 7,
   "metadata": {},
   "outputs": [],
   "source": [
    "def get_commit(owner, repo, commit_sha):\n",
    "    \"\"\"Return the commit for the specified repository and commit SHA\"\"\"\n",
    "\n",
    "    base_url = 'https://api.github.com'\n",
    "\n",
    "    # Endpoint\n",
    "    endpoint = f'/repos/{owner}/{repo}/commits/{commit_sha}'\n",
    "    url = base_url + endpoint\n",
    "\n",
    "    # Headers\n",
    "    headers = {\n",
    "        'Authorization': f'token {GITHUB_PERSONAL_ACCESS_TOKEN}',\n",
    "        'Content-Type': 'application/json',\n",
    "        'Accept': 'application/vnd.github.v3+json',\n",
    "        'X-GitHub-Api-Version': '2022-11-28'\n",
    "    }\n",
    "\n",
    "    response = requests.get(url, headers=headers)\n",
    "\n",
    "    return response.json()"
   ]
  },
  {
   "cell_type": "code",
   "execution_count": 8,
   "metadata": {},
   "outputs": [],
   "source": [
    "def get_branches(owner, repo):\n",
    "    \"\"\"Fetch branches for a GitHub repository\"\"\"\n",
    "\n",
    "    base_url = 'https://api.github.com'\n",
    "\n",
    "    # Endpoint\n",
    "    endpoint = f'/repos/{owner}/{repo}/branches'\n",
    "    url = base_url + endpoint\n",
    "\n",
    "    # Headers\n",
    "    headers = {\n",
    "        'Authorization': f'token {GITHUB_PERSONAL_ACCESS_TOKEN}',\n",
    "        'Content-Type': 'application/json',\n",
    "        'Accept': 'application/vnd.github.v3+json',\n",
    "        'X-GitHub-Api-Version': '2022-11-28'\n",
    "    }\n",
    "\n",
    "    response = requests.get(url, headers=headers)\n",
    "    branches = response.json()\n",
    "\n",
    "    return branches"
   ]
  },
  {
   "cell_type": "code",
   "execution_count": 9,
   "metadata": {},
   "outputs": [],
   "source": [
    "def get_branch(owner, repo, branch_name):\n",
    "    \"\"\"Fetch branches for a GitHub repository\"\"\"\n",
    "\n",
    "    base_url = 'https://api.github.com'\n",
    "\n",
    "    # Endpoint\n",
    "    endpoint = f'/repos/{owner}/{repo}/branches/{branch_name}'\n",
    "    url = base_url + endpoint\n",
    "\n",
    "    # Headers\n",
    "    headers = {\n",
    "        'Authorization': f'token {GITHUB_PERSONAL_ACCESS_TOKEN}',\n",
    "        'Content-Type': 'application/json',\n",
    "        'Accept': 'application/vnd.github.v3+json',\n",
    "        'X-GitHub-Api-Version': '2022-11-28'\n",
    "    }\n",
    "\n",
    "    response = requests.get(url, headers=headers)\n",
    "    branches = response.json()\n",
    "\n",
    "    return branches"
   ]
  },
  {
   "cell_type": "code",
   "execution_count": 10,
   "metadata": {},
   "outputs": [],
   "source": [
    "# Function to fetch pull requests\n",
    "def fetch_pull_requests(owner, repo):\n",
    "    url = f\"https://api.github.com/repos/{owner}/{repo}/pulls?state=all\"\n",
    "    \n",
    "    # Headers\n",
    "    headers = {\n",
    "        'Authorization': f'token {GITHUB_PERSONAL_ACCESS_TOKEN}',\n",
    "        'Content-Type': 'application/json',\n",
    "        'Accept': 'application/vnd.github.v3+json',\n",
    "        'X-GitHub-Api-Version': '2022-11-28'\n",
    "    }\n",
    "    response = requests.get(url, headers=headers)\n",
    "\n",
    "    if response.status_code == 200:\n",
    "        return response.json()\n",
    "    else:\n",
    "        print(f\"Error: {response.status_code}\")\n",
    "        return []"
   ]
  },
  {
   "attachments": {},
   "cell_type": "markdown",
   "metadata": {},
   "source": [
    "## Branches"
   ]
  },
  {
   "cell_type": "code",
   "execution_count": 11,
   "metadata": {},
   "outputs": [],
   "source": [
    "from pygethub import list_branches, GitHubPaginator"
   ]
  },
  {
   "cell_type": "code",
   "execution_count": 12,
   "metadata": {},
   "outputs": [],
   "source": [
    "paginator = GitHubPaginator(GITHUB_PERSONAL_ACCESS_TOKEN)"
   ]
  },
  {
   "cell_type": "code",
   "execution_count": 20,
   "metadata": {},
   "outputs": [],
   "source": [
    "# Get all branches\n",
    "paginator = GitHubPaginator(GITHUB_PERSONAL_ACCESS_TOKEN)\n",
    "pages = paginator.get_paginator(list_branches, owner=GITHUB_REPOSITORY_OWNER, repo=GITHUB_REPOSITORY_NAME)\n",
    "all_branches = list(pages)"
   ]
  },
  {
   "cell_type": "code",
   "execution_count": 22,
   "metadata": {},
   "outputs": [
    {
     "ename": "NameError",
     "evalue": "name 'pygethub' is not defined",
     "output_type": "error",
     "traceback": [
      "\u001b[0;31m---------------------------------------------------------------------------\u001b[0m",
      "\u001b[0;31mNameError\u001b[0m                                 Traceback (most recent call last)",
      "Cell \u001b[0;32mIn[22], line 1\u001b[0m\n\u001b[0;32m----> 1\u001b[0m \u001b[43mpygethub\u001b[49m\u001b[38;5;241m.\u001b[39m__version__\n",
      "\u001b[0;31mNameError\u001b[0m: name 'pygethub' is not defined"
     ]
    }
   ],
   "source": []
  },
  {
   "cell_type": "code",
   "execution_count": 21,
   "metadata": {},
   "outputs": [
    {
     "data": {
      "text/plain": [
       "0"
      ]
     },
     "execution_count": 21,
     "metadata": {},
     "output_type": "execute_result"
    }
   ],
   "source": [
    "len(all_branches)"
   ]
  },
  {
   "cell_type": "code",
   "execution_count": 11,
   "metadata": {},
   "outputs": [],
   "source": [
    "branches_df = pd.DataFrame([flatten_json(branch) for branch in all_branches])"
   ]
  },
  {
   "cell_type": "code",
   "execution_count": 12,
   "metadata": {},
   "outputs": [
    {
     "data": {
      "text/html": [
       "<div>\n",
       "<style scoped>\n",
       "    .dataframe tbody tr th:only-of-type {\n",
       "        vertical-align: middle;\n",
       "    }\n",
       "\n",
       "    .dataframe tbody tr th {\n",
       "        vertical-align: top;\n",
       "    }\n",
       "\n",
       "    .dataframe thead th {\n",
       "        text-align: right;\n",
       "    }\n",
       "</style>\n",
       "<table border=\"1\" class=\"dataframe\">\n",
       "  <thead>\n",
       "    <tr style=\"text-align: right;\">\n",
       "      <th></th>\n",
       "    </tr>\n",
       "  </thead>\n",
       "  <tbody>\n",
       "  </tbody>\n",
       "</table>\n",
       "</div>"
      ],
      "text/plain": [
       "Empty DataFrame\n",
       "Columns: []\n",
       "Index: []"
      ]
     },
     "execution_count": 12,
     "metadata": {},
     "output_type": "execute_result"
    }
   ],
   "source": [
    "branches_df.head()"
   ]
  },
  {
   "cell_type": "code",
   "execution_count": 16,
   "metadata": {},
   "outputs": [],
   "source": [
    "releases = list(branches_df['name'].unique())[:-1]"
   ]
  },
  {
   "cell_type": "code",
   "execution_count": 17,
   "metadata": {},
   "outputs": [
    {
     "name": "stdout",
     "output_type": "stream",
     "text": [
      "300,310,320,330,340,350,360,370,380,390,3100,3110,3120,3130,3140,3150,3160,3170,3180,3190,3200,3210,3220,3230,3240,3250,3260,3270,3280,3290,3300,3310,3320,3330,3340,3350,3360,3370,3380,3390,3400,3410,3420,3430,3440,3450,3460,3470,3480,3490,3500,3510,3520,3530\n"
     ]
    }
   ],
   "source": [
    "print(\",\".join(releases))"
   ]
  },
  {
   "attachments": {},
   "cell_type": "markdown",
   "metadata": {},
   "source": [
    "## Pull Requests"
   ]
  },
  {
   "cell_type": "code",
   "execution_count": 51,
   "metadata": {},
   "outputs": [],
   "source": [
    "# # Fetch pull requests and load them into a DataFrame\n",
    "# pull_requests = fetch_pull_requests(GITHUB_REPOSITORY_OWNER, GITHUB_REPOSITORY_NAME, GITHUB_PERSONAL_ACCESS_TOKEN)"
   ]
  },
  {
   "cell_type": "code",
   "execution_count": 52,
   "metadata": {},
   "outputs": [],
   "source": [
    "# # pull_requests_df = pd.DataFrame(pull_requests)\n",
    "# pull_requests_df = pd.DataFrame([flatten_json(pull_request) for pull_request in pull_requests])"
   ]
  },
  {
   "cell_type": "code",
   "execution_count": 53,
   "metadata": {},
   "outputs": [],
   "source": [
    "# pull_requests_df.head()"
   ]
  },
  {
   "cell_type": "code",
   "execution_count": 54,
   "metadata": {},
   "outputs": [],
   "source": [
    "# pull_requests_df[\"title\"].unique()"
   ]
  },
  {
   "attachments": {},
   "cell_type": "markdown",
   "metadata": {},
   "source": [
    "## Commits"
   ]
  },
  {
   "cell_type": "code",
   "execution_count": 55,
   "metadata": {},
   "outputs": [],
   "source": [
    "commits = get_commits(GITHUB_REPOSITORY_OWNER, GITHUB_REPOSITORY_NAME)"
   ]
  },
  {
   "cell_type": "code",
   "execution_count": 56,
   "metadata": {},
   "outputs": [
    {
     "data": {
      "text/plain": [
       "100"
      ]
     },
     "execution_count": 56,
     "metadata": {},
     "output_type": "execute_result"
    }
   ],
   "source": [
    "len(commits)"
   ]
  },
  {
   "cell_type": "code",
   "execution_count": 57,
   "metadata": {},
   "outputs": [
    {
     "data": {
      "text/plain": [
       "'38398a75e9762ff070d8e9bd714d074332646cd7'"
      ]
     },
     "execution_count": 57,
     "metadata": {},
     "output_type": "execute_result"
    }
   ],
   "source": [
    "commits[0]['sha']"
   ]
  },
  {
   "cell_type": "code",
   "execution_count": 58,
   "metadata": {},
   "outputs": [
    {
     "data": {
      "text/plain": [
       "{'sha': '38398a75e9762ff070d8e9bd714d074332646cd7',\n",
       " 'node_id': 'C_kwDOAXZz6NoAKDM4Mzk4YTc1ZTk3NjJmZjA3MGQ4ZTliZDcxNGQwNzQzMzI2NDZjZDc',\n",
       " 'commit': {'author': {'name': 'xeniageorgiouAN',\n",
       "   'email': 'xenia.georgiou@anthonynolan.org',\n",
       "   'date': '2023-04-17T16:03:52Z'},\n",
       "  'committer': {'name': 'GitHub',\n",
       "   'email': 'noreply@github.com',\n",
       "   'date': '2023-04-17T16:03:52Z'},\n",
       "  'message': 'Merge pull request #334 from ANHIG/3520\\n\\nIPD-IMGT/HLA Release 3.52.0',\n",
       "  'tree': {'sha': 'e9ffca9666e355b1285a0c6a42951f6a28ea7f90',\n",
       "   'url': 'https://api.github.com/repos/ANHIG/IMGTHLA/git/trees/e9ffca9666e355b1285a0c6a42951f6a28ea7f90'},\n",
       "  'url': 'https://api.github.com/repos/ANHIG/IMGTHLA/git/commits/38398a75e9762ff070d8e9bd714d074332646cd7',\n",
       "  'comment_count': 0,\n",
       "  'verification': {'verified': True,\n",
       "   'reason': 'valid',\n",
       "   'signature': '-----BEGIN PGP SIGNATURE-----\\n\\nwsBcBAABCAAQBQJkPW3oCRBK7hj4Ov3rIwAAkxkIAI1/KmiZW1yRfwe8e++ROHQo\\ncPbR+1PipOfVXcgaJVyK5vfiR1d+1DsLph0k+VurKcVIn5As5Pc+XSi7ImeeNFzV\\nrk51rZXuSwzznIuuRptXJsnhcrfnsg61FII47Qqhh2YcMkFFg7TMDlRZca0qWCJB\\nHZ2+MbVkXZjJf1ZmBTq6z/gHVRcApwfGlD6JVwNkppGC0EgXAJm+5/qguB7CNGgZ\\nDXK1PLm9p5qhiC2zdg+ploGe53NKYEFgib1N3qhOc7hAi6p60bWoFw2gdFzMjmSu\\nqdtdSdIvbm0aobJDjiabTHLq85ojQ40RiPR4WBc65BXhXsmYSsTwnQvgdiDkXKY=\\n=ajY2\\n-----END PGP SIGNATURE-----\\n',\n",
       "   'payload': 'tree e9ffca9666e355b1285a0c6a42951f6a28ea7f90\\nparent 5f2c562056f8ffa89aeea0631f2a52300ee0de17\\nparent def376dc6955b339b17f0a4b840e80eb6b9c744b\\nauthor xeniageorgiouAN <xenia.georgiou@anthonynolan.org> 1681747432 +0100\\ncommitter GitHub <noreply@github.com> 1681747432 +0100\\n\\nMerge pull request #334 from ANHIG/3520\\n\\nIPD-IMGT/HLA Release 3.52.0'}},\n",
       " 'url': 'https://api.github.com/repos/ANHIG/IMGTHLA/commits/38398a75e9762ff070d8e9bd714d074332646cd7',\n",
       " 'html_url': 'https://github.com/ANHIG/IMGTHLA/commit/38398a75e9762ff070d8e9bd714d074332646cd7',\n",
       " 'comments_url': 'https://api.github.com/repos/ANHIG/IMGTHLA/commits/38398a75e9762ff070d8e9bd714d074332646cd7/comments',\n",
       " 'author': {'login': 'xeniageorgiouAN',\n",
       "  'id': 55495460,\n",
       "  'node_id': 'MDQ6VXNlcjU1NDk1NDYw',\n",
       "  'avatar_url': 'https://avatars.githubusercontent.com/u/55495460?v=4',\n",
       "  'gravatar_id': '',\n",
       "  'url': 'https://api.github.com/users/xeniageorgiouAN',\n",
       "  'html_url': 'https://github.com/xeniageorgiouAN',\n",
       "  'followers_url': 'https://api.github.com/users/xeniageorgiouAN/followers',\n",
       "  'following_url': 'https://api.github.com/users/xeniageorgiouAN/following{/other_user}',\n",
       "  'gists_url': 'https://api.github.com/users/xeniageorgiouAN/gists{/gist_id}',\n",
       "  'starred_url': 'https://api.github.com/users/xeniageorgiouAN/starred{/owner}{/repo}',\n",
       "  'subscriptions_url': 'https://api.github.com/users/xeniageorgiouAN/subscriptions',\n",
       "  'organizations_url': 'https://api.github.com/users/xeniageorgiouAN/orgs',\n",
       "  'repos_url': 'https://api.github.com/users/xeniageorgiouAN/repos',\n",
       "  'events_url': 'https://api.github.com/users/xeniageorgiouAN/events{/privacy}',\n",
       "  'received_events_url': 'https://api.github.com/users/xeniageorgiouAN/received_events',\n",
       "  'type': 'User',\n",
       "  'site_admin': False},\n",
       " 'committer': {'login': 'web-flow',\n",
       "  'id': 19864447,\n",
       "  'node_id': 'MDQ6VXNlcjE5ODY0NDQ3',\n",
       "  'avatar_url': 'https://avatars.githubusercontent.com/u/19864447?v=4',\n",
       "  'gravatar_id': '',\n",
       "  'url': 'https://api.github.com/users/web-flow',\n",
       "  'html_url': 'https://github.com/web-flow',\n",
       "  'followers_url': 'https://api.github.com/users/web-flow/followers',\n",
       "  'following_url': 'https://api.github.com/users/web-flow/following{/other_user}',\n",
       "  'gists_url': 'https://api.github.com/users/web-flow/gists{/gist_id}',\n",
       "  'starred_url': 'https://api.github.com/users/web-flow/starred{/owner}{/repo}',\n",
       "  'subscriptions_url': 'https://api.github.com/users/web-flow/subscriptions',\n",
       "  'organizations_url': 'https://api.github.com/users/web-flow/orgs',\n",
       "  'repos_url': 'https://api.github.com/users/web-flow/repos',\n",
       "  'events_url': 'https://api.github.com/users/web-flow/events{/privacy}',\n",
       "  'received_events_url': 'https://api.github.com/users/web-flow/received_events',\n",
       "  'type': 'User',\n",
       "  'site_admin': False},\n",
       " 'parents': [{'sha': '5f2c562056f8ffa89aeea0631f2a52300ee0de17',\n",
       "   'url': 'https://api.github.com/repos/ANHIG/IMGTHLA/commits/5f2c562056f8ffa89aeea0631f2a52300ee0de17',\n",
       "   'html_url': 'https://github.com/ANHIG/IMGTHLA/commit/5f2c562056f8ffa89aeea0631f2a52300ee0de17'},\n",
       "  {'sha': 'def376dc6955b339b17f0a4b840e80eb6b9c744b',\n",
       "   'url': 'https://api.github.com/repos/ANHIG/IMGTHLA/commits/def376dc6955b339b17f0a4b840e80eb6b9c744b',\n",
       "   'html_url': 'https://github.com/ANHIG/IMGTHLA/commit/def376dc6955b339b17f0a4b840e80eb6b9c744b'}],\n",
       " 'stats': {'total': 0, 'additions': 0, 'deletions': 0},\n",
       " 'files': []}"
      ]
     },
     "execution_count": 58,
     "metadata": {},
     "output_type": "execute_result"
    }
   ],
   "source": [
    "get_commit(GITHUB_REPOSITORY_OWNER, GITHUB_REPOSITORY_NAME, \"38398a75e9762ff070d8e9bd714d074332646cd7\")"
   ]
  },
  {
   "cell_type": "code",
   "execution_count": 128,
   "metadata": {},
   "outputs": [],
   "source": [
    "# load dataframe from json and drop columns that are all null\n",
    "commits_df = (\n",
    "    pd.DataFrame([flatten_json(commit) for commit in commits])\n",
    "    # pd.DataFrame(commits)\n",
    "    .dropna(axis=1, how='all')\n",
    "    # .sort_values(by='commit.committer.date', ascending=False)\n",
    ")"
   ]
  },
  {
   "cell_type": "code",
   "execution_count": 129,
   "metadata": {},
   "outputs": [
    {
     "data": {
      "text/plain": [
       "Index(['sha', 'node_id', 'commit.author.name', 'commit.author.email',\n",
       "       'commit.author.date', 'commit.committer.name', 'commit.committer.email',\n",
       "       'commit.committer.date', 'commit.message', 'commit.tree.sha',\n",
       "       'commit.tree.url', 'commit.url', 'commit.comment_count',\n",
       "       'commit.verification.verified', 'commit.verification.reason',\n",
       "       'commit.verification.signature', 'commit.verification.payload', 'url',\n",
       "       'html_url', 'comments_url', 'author.login', 'author.id',\n",
       "       'author.node_id', 'author.avatar_url', 'author.gravatar_id',\n",
       "       'author.url', 'author.html_url', 'author.followers_url',\n",
       "       'author.following_url', 'author.gists_url', 'author.starred_url',\n",
       "       'author.subscriptions_url', 'author.organizations_url',\n",
       "       'author.repos_url', 'author.events_url', 'author.received_events_url',\n",
       "       'author.type', 'author.site_admin', 'committer.login', 'committer.id',\n",
       "       'committer.node_id', 'committer.avatar_url', 'committer.gravatar_id',\n",
       "       'committer.url', 'committer.html_url', 'committer.followers_url',\n",
       "       'committer.following_url', 'committer.gists_url',\n",
       "       'committer.starred_url', 'committer.subscriptions_url',\n",
       "       'committer.organizations_url', 'committer.repos_url',\n",
       "       'committer.events_url', 'committer.received_events_url',\n",
       "       'committer.type', 'committer.site_admin', 'parents.0.sha',\n",
       "       'parents.0.url', 'parents.0.html_url', 'parents.1.sha', 'parents.1.url',\n",
       "       'parents.1.html_url'],\n",
       "      dtype='object')"
      ]
     },
     "execution_count": 129,
     "metadata": {},
     "output_type": "execute_result"
    }
   ],
   "source": [
    "commits_df.columns"
   ]
  },
  {
   "cell_type": "code",
   "execution_count": 130,
   "metadata": {},
   "outputs": [],
   "source": [
    "cols = [\n",
    "    \"sha\",\n",
    "    \"commit.author.date\",\n",
    "    \"commit.message\"\n",
    "]\n",
    "commits_df = commits_df[cols]\n",
    "\n",
    "# convert date column to datetime\n",
    "commits_df[\"date\"] = pd.to_datetime(commits_df[\"commit.author.date\"])\n",
    "commits_df.drop(columns=[\"commit.author.date\"], inplace=True)"
   ]
  },
  {
   "cell_type": "code",
   "execution_count": 131,
   "metadata": {},
   "outputs": [],
   "source": [
    "# # Commit SHAs do not correspond to branch SHAs, so this approach doesn't work\n",
    "# # join the branches df to the commits df on branches['commit.sha']\n",
    "# commits_df = commits_df.merge(branches_df, left_on='sha', right_on='commit.sha', how='outer')"
   ]
  },
  {
   "cell_type": "code",
   "execution_count": 132,
   "metadata": {},
   "outputs": [],
   "source": [
    "# commits_df.iloc[:4, :]"
   ]
  },
  {
   "cell_type": "code",
   "execution_count": 133,
   "metadata": {},
   "outputs": [
    {
     "name": "stdout",
     "output_type": "stream",
     "text": [
      "38398a75e9762ff070d8e9bd714d074332646cd7\n",
      "def376dc6955b339b17f0a4b840e80eb6b9c744b\n",
      "5f2c562056f8ffa89aeea0631f2a52300ee0de17\n",
      "4b8432c7d56121c84d6ef1d75a1c7185c628c13d\n",
      "4486f5c623705c6a14d9eeaba7d155cff30cdb43\n",
      "50b790037030d958b662085c3f4cf34ba72a32ec\n",
      "36220a1c5c2d6954f4873a552544cc0e55b61d0a\n",
      "e941759874365cb152a3562c22d10847d10db326\n",
      "2d38d3313229fdc5f8aa00052a2db21b35be3d2d\n",
      "1ce31fc9e2805034578eff60a269c02176f03252\n",
      "2c631a4b61d529ff1c0635750888f6f6d79c2703\n",
      "12b4b94bb49b4640fa48a1182cc9b1e1fbf7e816\n",
      "8f80f24d49797595d8a18b8d4d1f59846fbf3fe1\n",
      "a9680a9e80e2c119d4aa41f90e5f40cef6e7df02\n",
      "1fd937e6c0ff8452f64152aec9632f0586f981d1\n",
      "50e92c677f4cd547c32bb9305269a762a9595074\n",
      "8732e7d4739a911e01f69d2c5bda82ca15ca68a9\n",
      "536e8833f3be4bbcffbfba43cd0b3043c5bf4068\n",
      "c90cc62006b35061c8db4b6f8da1b86de7650b23\n",
      "1a3be9a5d01a414854ff3bfacd5257c14adeefa2\n"
     ]
    }
   ],
   "source": [
    "commit_refs = []\n",
    "limit = 20\n",
    "for idx, sha in enumerate(commits_df.iloc[:20, :][\"sha\"].to_list()):\n",
    "    # fetch commit\n",
    "    print(sha)\n",
    "    commit = get_commit(GITHUB_REPOSITORY_OWNER, GITHUB_REPOSITORY_NAME, sha)\n",
    "    commit_refs.append(commit)\n",
    "\n",
    "    if idx+1 == limit:\n",
    "        break"
   ]
  },
  {
   "cell_type": "code",
   "execution_count": 137,
   "metadata": {},
   "outputs": [],
   "source": [
    "# commit_refs_df = pd.DataFrame([flatten_json(commit) for commit in commit_refs])\n",
    "commit_refs_df = pd.DataFrame(commit_refs)[[\"sha\", \"files\", \"parents\"]]"
   ]
  },
  {
   "cell_type": "code",
   "execution_count": 141,
   "metadata": {},
   "outputs": [
    {
     "data": {
      "text/plain": [
       "0     [{'sha': '5f2c562056f8ffa89aeea0631f2a52300ee0de17', 'url': 'https://api.github.com/repos/ANHIG/IMGTHLA/commits/5f2c562056f8ffa89aeea0631f2a52300ee0de17', 'html_url': 'https://github.com/ANHIG/IMGTHLA/commit/5f2c562056f8ffa89aeea0631f2a52300ee0de17'}, {'sha': 'def376dc6955b339b17f0a4b840e80eb6b9c744b', 'url': 'https://api.github.com/repos/ANHIG/IMGTHLA/commits/def376dc6955b339b17f0a4b840e80eb6b9c744b', 'html_url': 'https://github.com/ANHIG/IMGTHLA/commit/def376dc6955b339b17f0a4b840e80eb6b9c744b'}]\n",
       "1                                                                                                                                                                                                                                                                [{'sha': '5f2c562056f8ffa89aeea0631f2a52300ee0de17', 'url': 'https://api.github.com/repos/ANHIG/IMGTHLA/commits/5f2c562056f8ffa89aeea0631f2a52300ee0de17', 'html_url': 'https://github.com/ANHIG/IMGTHLA/commit/5f2c562056f8ffa89aeea0631f2a52300ee0de17'}]\n",
       "2     [{'sha': '50b790037030d958b662085c3f4cf34ba72a32ec', 'url': 'https://api.github.com/repos/ANHIG/IMGTHLA/commits/50b790037030d958b662085c3f4cf34ba72a32ec', 'html_url': 'https://github.com/ANHIG/IMGTHLA/commit/50b790037030d958b662085c3f4cf34ba72a32ec'}, {'sha': '4b8432c7d56121c84d6ef1d75a1c7185c628c13d', 'url': 'https://api.github.com/repos/ANHIG/IMGTHLA/commits/4b8432c7d56121c84d6ef1d75a1c7185c628c13d', 'html_url': 'https://github.com/ANHIG/IMGTHLA/commit/4b8432c7d56121c84d6ef1d75a1c7185c628c13d'}]\n",
       "3                                                                                                                                                                                                                                                                [{'sha': '4486f5c623705c6a14d9eeaba7d155cff30cdb43', 'url': 'https://api.github.com/repos/ANHIG/IMGTHLA/commits/4486f5c623705c6a14d9eeaba7d155cff30cdb43', 'html_url': 'https://github.com/ANHIG/IMGTHLA/commit/4486f5c623705c6a14d9eeaba7d155cff30cdb43'}]\n",
       "4                                                                                                                                                                                                                                                                [{'sha': '50b790037030d958b662085c3f4cf34ba72a32ec', 'url': 'https://api.github.com/repos/ANHIG/IMGTHLA/commits/50b790037030d958b662085c3f4cf34ba72a32ec', 'html_url': 'https://github.com/ANHIG/IMGTHLA/commit/50b790037030d958b662085c3f4cf34ba72a32ec'}]\n",
       "5     [{'sha': 'e941759874365cb152a3562c22d10847d10db326', 'url': 'https://api.github.com/repos/ANHIG/IMGTHLA/commits/e941759874365cb152a3562c22d10847d10db326', 'html_url': 'https://github.com/ANHIG/IMGTHLA/commit/e941759874365cb152a3562c22d10847d10db326'}, {'sha': '36220a1c5c2d6954f4873a552544cc0e55b61d0a', 'url': 'https://api.github.com/repos/ANHIG/IMGTHLA/commits/36220a1c5c2d6954f4873a552544cc0e55b61d0a', 'html_url': 'https://github.com/ANHIG/IMGTHLA/commit/36220a1c5c2d6954f4873a552544cc0e55b61d0a'}]\n",
       "6                                                                                                                                                                                                                                                                [{'sha': '2d38d3313229fdc5f8aa00052a2db21b35be3d2d', 'url': 'https://api.github.com/repos/ANHIG/IMGTHLA/commits/2d38d3313229fdc5f8aa00052a2db21b35be3d2d', 'html_url': 'https://github.com/ANHIG/IMGTHLA/commit/2d38d3313229fdc5f8aa00052a2db21b35be3d2d'}]\n",
       "7     [{'sha': '1ce31fc9e2805034578eff60a269c02176f03252', 'url': 'https://api.github.com/repos/ANHIG/IMGTHLA/commits/1ce31fc9e2805034578eff60a269c02176f03252', 'html_url': 'https://github.com/ANHIG/IMGTHLA/commit/1ce31fc9e2805034578eff60a269c02176f03252'}, {'sha': '2d38d3313229fdc5f8aa00052a2db21b35be3d2d', 'url': 'https://api.github.com/repos/ANHIG/IMGTHLA/commits/2d38d3313229fdc5f8aa00052a2db21b35be3d2d', 'html_url': 'https://github.com/ANHIG/IMGTHLA/commit/2d38d3313229fdc5f8aa00052a2db21b35be3d2d'}]\n",
       "8                                                                                                                                                                                                                                                                [{'sha': '2c631a4b61d529ff1c0635750888f6f6d79c2703', 'url': 'https://api.github.com/repos/ANHIG/IMGTHLA/commits/2c631a4b61d529ff1c0635750888f6f6d79c2703', 'html_url': 'https://github.com/ANHIG/IMGTHLA/commit/2c631a4b61d529ff1c0635750888f6f6d79c2703'}]\n",
       "9     [{'sha': '12b4b94bb49b4640fa48a1182cc9b1e1fbf7e816', 'url': 'https://api.github.com/repos/ANHIG/IMGTHLA/commits/12b4b94bb49b4640fa48a1182cc9b1e1fbf7e816', 'html_url': 'https://github.com/ANHIG/IMGTHLA/commit/12b4b94bb49b4640fa48a1182cc9b1e1fbf7e816'}, {'sha': '2c631a4b61d529ff1c0635750888f6f6d79c2703', 'url': 'https://api.github.com/repos/ANHIG/IMGTHLA/commits/2c631a4b61d529ff1c0635750888f6f6d79c2703', 'html_url': 'https://github.com/ANHIG/IMGTHLA/commit/2c631a4b61d529ff1c0635750888f6f6d79c2703'}]\n",
       "10                                                                                                                                                                                                                                                               [{'sha': '12b4b94bb49b4640fa48a1182cc9b1e1fbf7e816', 'url': 'https://api.github.com/repos/ANHIG/IMGTHLA/commits/12b4b94bb49b4640fa48a1182cc9b1e1fbf7e816', 'html_url': 'https://github.com/ANHIG/IMGTHLA/commit/12b4b94bb49b4640fa48a1182cc9b1e1fbf7e816'}]\n",
       "11    [{'sha': 'a9680a9e80e2c119d4aa41f90e5f40cef6e7df02', 'url': 'https://api.github.com/repos/ANHIG/IMGTHLA/commits/a9680a9e80e2c119d4aa41f90e5f40cef6e7df02', 'html_url': 'https://github.com/ANHIG/IMGTHLA/commit/a9680a9e80e2c119d4aa41f90e5f40cef6e7df02'}, {'sha': '8f80f24d49797595d8a18b8d4d1f59846fbf3fe1', 'url': 'https://api.github.com/repos/ANHIG/IMGTHLA/commits/8f80f24d49797595d8a18b8d4d1f59846fbf3fe1', 'html_url': 'https://github.com/ANHIG/IMGTHLA/commit/8f80f24d49797595d8a18b8d4d1f59846fbf3fe1'}]\n",
       "12                                                                                                                                                                                                                                                               [{'sha': '1fd937e6c0ff8452f64152aec9632f0586f981d1', 'url': 'https://api.github.com/repos/ANHIG/IMGTHLA/commits/1fd937e6c0ff8452f64152aec9632f0586f981d1', 'html_url': 'https://github.com/ANHIG/IMGTHLA/commit/1fd937e6c0ff8452f64152aec9632f0586f981d1'}]\n",
       "13    [{'sha': '50e92c677f4cd547c32bb9305269a762a9595074', 'url': 'https://api.github.com/repos/ANHIG/IMGTHLA/commits/50e92c677f4cd547c32bb9305269a762a9595074', 'html_url': 'https://github.com/ANHIG/IMGTHLA/commit/50e92c677f4cd547c32bb9305269a762a9595074'}, {'sha': '1fd937e6c0ff8452f64152aec9632f0586f981d1', 'url': 'https://api.github.com/repos/ANHIG/IMGTHLA/commits/1fd937e6c0ff8452f64152aec9632f0586f981d1', 'html_url': 'https://github.com/ANHIG/IMGTHLA/commit/1fd937e6c0ff8452f64152aec9632f0586f981d1'}]\n",
       "14                                                                                                                                                                                                                                                               [{'sha': '8732e7d4739a911e01f69d2c5bda82ca15ca68a9', 'url': 'https://api.github.com/repos/ANHIG/IMGTHLA/commits/8732e7d4739a911e01f69d2c5bda82ca15ca68a9', 'html_url': 'https://github.com/ANHIG/IMGTHLA/commit/8732e7d4739a911e01f69d2c5bda82ca15ca68a9'}]\n",
       "15    [{'sha': '536e8833f3be4bbcffbfba43cd0b3043c5bf4068', 'url': 'https://api.github.com/repos/ANHIG/IMGTHLA/commits/536e8833f3be4bbcffbfba43cd0b3043c5bf4068', 'html_url': 'https://github.com/ANHIG/IMGTHLA/commit/536e8833f3be4bbcffbfba43cd0b3043c5bf4068'}, {'sha': '8732e7d4739a911e01f69d2c5bda82ca15ca68a9', 'url': 'https://api.github.com/repos/ANHIG/IMGTHLA/commits/8732e7d4739a911e01f69d2c5bda82ca15ca68a9', 'html_url': 'https://github.com/ANHIG/IMGTHLA/commit/8732e7d4739a911e01f69d2c5bda82ca15ca68a9'}]\n",
       "16                                                                                                                                                                                                                                                               [{'sha': 'c90cc62006b35061c8db4b6f8da1b86de7650b23', 'url': 'https://api.github.com/repos/ANHIG/IMGTHLA/commits/c90cc62006b35061c8db4b6f8da1b86de7650b23', 'html_url': 'https://github.com/ANHIG/IMGTHLA/commit/c90cc62006b35061c8db4b6f8da1b86de7650b23'}]\n",
       "17    [{'sha': 'd1dd2ac5e2b6a8abef9e33ed397807ece52a22fe', 'url': 'https://api.github.com/repos/ANHIG/IMGTHLA/commits/d1dd2ac5e2b6a8abef9e33ed397807ece52a22fe', 'html_url': 'https://github.com/ANHIG/IMGTHLA/commit/d1dd2ac5e2b6a8abef9e33ed397807ece52a22fe'}, {'sha': 'c90cc62006b35061c8db4b6f8da1b86de7650b23', 'url': 'https://api.github.com/repos/ANHIG/IMGTHLA/commits/c90cc62006b35061c8db4b6f8da1b86de7650b23', 'html_url': 'https://github.com/ANHIG/IMGTHLA/commit/c90cc62006b35061c8db4b6f8da1b86de7650b23'}]\n",
       "18    [{'sha': '1a3be9a5d01a414854ff3bfacd5257c14adeefa2', 'url': 'https://api.github.com/repos/ANHIG/IMGTHLA/commits/1a3be9a5d01a414854ff3bfacd5257c14adeefa2', 'html_url': 'https://github.com/ANHIG/IMGTHLA/commit/1a3be9a5d01a414854ff3bfacd5257c14adeefa2'}, {'sha': 'd1dd2ac5e2b6a8abef9e33ed397807ece52a22fe', 'url': 'https://api.github.com/repos/ANHIG/IMGTHLA/commits/d1dd2ac5e2b6a8abef9e33ed397807ece52a22fe', 'html_url': 'https://github.com/ANHIG/IMGTHLA/commit/d1dd2ac5e2b6a8abef9e33ed397807ece52a22fe'}]\n",
       "19                                                                                                                                                                                                                                                               [{'sha': '4863b8f0a070d70836dfbdc00bdf70aa7bb66345', 'url': 'https://api.github.com/repos/ANHIG/IMGTHLA/commits/4863b8f0a070d70836dfbdc00bdf70aa7bb66345', 'html_url': 'https://github.com/ANHIG/IMGTHLA/commit/4863b8f0a070d70836dfbdc00bdf70aa7bb66345'}]\n",
       "Name: parents, dtype: object"
      ]
     },
     "execution_count": 141,
     "metadata": {},
     "output_type": "execute_result"
    }
   ],
   "source": [
    "commit_refs_df.loc[:20, :]['parents']"
   ]
  },
  {
   "cell_type": "code",
   "execution_count": 97,
   "metadata": {},
   "outputs": [
    {
     "data": {
      "text/plain": [
       "0     [{'sha': '5f2c562056f8ffa89aeea0631f2a52300ee0de17', 'url': 'https://api.github.com/repos/ANHIG/IMGTHLA/commits/5f2c562056f8ffa89aeea0631f2a52300ee0de17', 'html_url': 'https://github.com/ANHIG/IMGTHLA/commit/5f2c562056f8ffa89aeea0631f2a52300ee0de17'}, {'sha': 'def376dc6955b339b17f0a4b840e80eb6b9c744b', 'url': 'https://api.github.com/repos/ANHIG/IMGTHLA/commits/def376dc6955b339b17f0a4b840e80eb6b9c744b', 'html_url': 'https://github.com/ANHIG/IMGTHLA/commit/def376dc6955b339b17f0a4b840e80eb6b9c744b'}]\n",
       "1                                                                                                                                                                                                                                                                [{'sha': '5f2c562056f8ffa89aeea0631f2a52300ee0de17', 'url': 'https://api.github.com/repos/ANHIG/IMGTHLA/commits/5f2c562056f8ffa89aeea0631f2a52300ee0de17', 'html_url': 'https://github.com/ANHIG/IMGTHLA/commit/5f2c562056f8ffa89aeea0631f2a52300ee0de17'}]\n",
       "2     [{'sha': '50b790037030d958b662085c3f4cf34ba72a32ec', 'url': 'https://api.github.com/repos/ANHIG/IMGTHLA/commits/50b790037030d958b662085c3f4cf34ba72a32ec', 'html_url': 'https://github.com/ANHIG/IMGTHLA/commit/50b790037030d958b662085c3f4cf34ba72a32ec'}, {'sha': '4b8432c7d56121c84d6ef1d75a1c7185c628c13d', 'url': 'https://api.github.com/repos/ANHIG/IMGTHLA/commits/4b8432c7d56121c84d6ef1d75a1c7185c628c13d', 'html_url': 'https://github.com/ANHIG/IMGTHLA/commit/4b8432c7d56121c84d6ef1d75a1c7185c628c13d'}]\n",
       "3                                                                                                                                                                                                                                                                [{'sha': '4486f5c623705c6a14d9eeaba7d155cff30cdb43', 'url': 'https://api.github.com/repos/ANHIG/IMGTHLA/commits/4486f5c623705c6a14d9eeaba7d155cff30cdb43', 'html_url': 'https://github.com/ANHIG/IMGTHLA/commit/4486f5c623705c6a14d9eeaba7d155cff30cdb43'}]\n",
       "4                                                                                                                                                                                                                                                                [{'sha': '50b790037030d958b662085c3f4cf34ba72a32ec', 'url': 'https://api.github.com/repos/ANHIG/IMGTHLA/commits/50b790037030d958b662085c3f4cf34ba72a32ec', 'html_url': 'https://github.com/ANHIG/IMGTHLA/commit/50b790037030d958b662085c3f4cf34ba72a32ec'}]\n",
       "5     [{'sha': 'e941759874365cb152a3562c22d10847d10db326', 'url': 'https://api.github.com/repos/ANHIG/IMGTHLA/commits/e941759874365cb152a3562c22d10847d10db326', 'html_url': 'https://github.com/ANHIG/IMGTHLA/commit/e941759874365cb152a3562c22d10847d10db326'}, {'sha': '36220a1c5c2d6954f4873a552544cc0e55b61d0a', 'url': 'https://api.github.com/repos/ANHIG/IMGTHLA/commits/36220a1c5c2d6954f4873a552544cc0e55b61d0a', 'html_url': 'https://github.com/ANHIG/IMGTHLA/commit/36220a1c5c2d6954f4873a552544cc0e55b61d0a'}]\n",
       "6                                                                                                                                                                                                                                                                [{'sha': '2d38d3313229fdc5f8aa00052a2db21b35be3d2d', 'url': 'https://api.github.com/repos/ANHIG/IMGTHLA/commits/2d38d3313229fdc5f8aa00052a2db21b35be3d2d', 'html_url': 'https://github.com/ANHIG/IMGTHLA/commit/2d38d3313229fdc5f8aa00052a2db21b35be3d2d'}]\n",
       "7     [{'sha': '1ce31fc9e2805034578eff60a269c02176f03252', 'url': 'https://api.github.com/repos/ANHIG/IMGTHLA/commits/1ce31fc9e2805034578eff60a269c02176f03252', 'html_url': 'https://github.com/ANHIG/IMGTHLA/commit/1ce31fc9e2805034578eff60a269c02176f03252'}, {'sha': '2d38d3313229fdc5f8aa00052a2db21b35be3d2d', 'url': 'https://api.github.com/repos/ANHIG/IMGTHLA/commits/2d38d3313229fdc5f8aa00052a2db21b35be3d2d', 'html_url': 'https://github.com/ANHIG/IMGTHLA/commit/2d38d3313229fdc5f8aa00052a2db21b35be3d2d'}]\n",
       "8                                                                                                                                                                                                                                                                [{'sha': '2c631a4b61d529ff1c0635750888f6f6d79c2703', 'url': 'https://api.github.com/repos/ANHIG/IMGTHLA/commits/2c631a4b61d529ff1c0635750888f6f6d79c2703', 'html_url': 'https://github.com/ANHIG/IMGTHLA/commit/2c631a4b61d529ff1c0635750888f6f6d79c2703'}]\n",
       "9     [{'sha': '12b4b94bb49b4640fa48a1182cc9b1e1fbf7e816', 'url': 'https://api.github.com/repos/ANHIG/IMGTHLA/commits/12b4b94bb49b4640fa48a1182cc9b1e1fbf7e816', 'html_url': 'https://github.com/ANHIG/IMGTHLA/commit/12b4b94bb49b4640fa48a1182cc9b1e1fbf7e816'}, {'sha': '2c631a4b61d529ff1c0635750888f6f6d79c2703', 'url': 'https://api.github.com/repos/ANHIG/IMGTHLA/commits/2c631a4b61d529ff1c0635750888f6f6d79c2703', 'html_url': 'https://github.com/ANHIG/IMGTHLA/commit/2c631a4b61d529ff1c0635750888f6f6d79c2703'}]\n",
       "10                                                                                                                                                                                                                                                               [{'sha': '12b4b94bb49b4640fa48a1182cc9b1e1fbf7e816', 'url': 'https://api.github.com/repos/ANHIG/IMGTHLA/commits/12b4b94bb49b4640fa48a1182cc9b1e1fbf7e816', 'html_url': 'https://github.com/ANHIG/IMGTHLA/commit/12b4b94bb49b4640fa48a1182cc9b1e1fbf7e816'}]\n",
       "11    [{'sha': 'a9680a9e80e2c119d4aa41f90e5f40cef6e7df02', 'url': 'https://api.github.com/repos/ANHIG/IMGTHLA/commits/a9680a9e80e2c119d4aa41f90e5f40cef6e7df02', 'html_url': 'https://github.com/ANHIG/IMGTHLA/commit/a9680a9e80e2c119d4aa41f90e5f40cef6e7df02'}, {'sha': '8f80f24d49797595d8a18b8d4d1f59846fbf3fe1', 'url': 'https://api.github.com/repos/ANHIG/IMGTHLA/commits/8f80f24d49797595d8a18b8d4d1f59846fbf3fe1', 'html_url': 'https://github.com/ANHIG/IMGTHLA/commit/8f80f24d49797595d8a18b8d4d1f59846fbf3fe1'}]\n",
       "12                                                                                                                                                                                                                                                               [{'sha': '1fd937e6c0ff8452f64152aec9632f0586f981d1', 'url': 'https://api.github.com/repos/ANHIG/IMGTHLA/commits/1fd937e6c0ff8452f64152aec9632f0586f981d1', 'html_url': 'https://github.com/ANHIG/IMGTHLA/commit/1fd937e6c0ff8452f64152aec9632f0586f981d1'}]\n",
       "13    [{'sha': '50e92c677f4cd547c32bb9305269a762a9595074', 'url': 'https://api.github.com/repos/ANHIG/IMGTHLA/commits/50e92c677f4cd547c32bb9305269a762a9595074', 'html_url': 'https://github.com/ANHIG/IMGTHLA/commit/50e92c677f4cd547c32bb9305269a762a9595074'}, {'sha': '1fd937e6c0ff8452f64152aec9632f0586f981d1', 'url': 'https://api.github.com/repos/ANHIG/IMGTHLA/commits/1fd937e6c0ff8452f64152aec9632f0586f981d1', 'html_url': 'https://github.com/ANHIG/IMGTHLA/commit/1fd937e6c0ff8452f64152aec9632f0586f981d1'}]\n",
       "14                                                                                                                                                                                                                                                               [{'sha': '8732e7d4739a911e01f69d2c5bda82ca15ca68a9', 'url': 'https://api.github.com/repos/ANHIG/IMGTHLA/commits/8732e7d4739a911e01f69d2c5bda82ca15ca68a9', 'html_url': 'https://github.com/ANHIG/IMGTHLA/commit/8732e7d4739a911e01f69d2c5bda82ca15ca68a9'}]\n",
       "15    [{'sha': '536e8833f3be4bbcffbfba43cd0b3043c5bf4068', 'url': 'https://api.github.com/repos/ANHIG/IMGTHLA/commits/536e8833f3be4bbcffbfba43cd0b3043c5bf4068', 'html_url': 'https://github.com/ANHIG/IMGTHLA/commit/536e8833f3be4bbcffbfba43cd0b3043c5bf4068'}, {'sha': '8732e7d4739a911e01f69d2c5bda82ca15ca68a9', 'url': 'https://api.github.com/repos/ANHIG/IMGTHLA/commits/8732e7d4739a911e01f69d2c5bda82ca15ca68a9', 'html_url': 'https://github.com/ANHIG/IMGTHLA/commit/8732e7d4739a911e01f69d2c5bda82ca15ca68a9'}]\n",
       "16                                                                                                                                                                                                                                                               [{'sha': 'c90cc62006b35061c8db4b6f8da1b86de7650b23', 'url': 'https://api.github.com/repos/ANHIG/IMGTHLA/commits/c90cc62006b35061c8db4b6f8da1b86de7650b23', 'html_url': 'https://github.com/ANHIG/IMGTHLA/commit/c90cc62006b35061c8db4b6f8da1b86de7650b23'}]\n",
       "17    [{'sha': 'd1dd2ac5e2b6a8abef9e33ed397807ece52a22fe', 'url': 'https://api.github.com/repos/ANHIG/IMGTHLA/commits/d1dd2ac5e2b6a8abef9e33ed397807ece52a22fe', 'html_url': 'https://github.com/ANHIG/IMGTHLA/commit/d1dd2ac5e2b6a8abef9e33ed397807ece52a22fe'}, {'sha': 'c90cc62006b35061c8db4b6f8da1b86de7650b23', 'url': 'https://api.github.com/repos/ANHIG/IMGTHLA/commits/c90cc62006b35061c8db4b6f8da1b86de7650b23', 'html_url': 'https://github.com/ANHIG/IMGTHLA/commit/c90cc62006b35061c8db4b6f8da1b86de7650b23'}]\n",
       "18    [{'sha': '1a3be9a5d01a414854ff3bfacd5257c14adeefa2', 'url': 'https://api.github.com/repos/ANHIG/IMGTHLA/commits/1a3be9a5d01a414854ff3bfacd5257c14adeefa2', 'html_url': 'https://github.com/ANHIG/IMGTHLA/commit/1a3be9a5d01a414854ff3bfacd5257c14adeefa2'}, {'sha': 'd1dd2ac5e2b6a8abef9e33ed397807ece52a22fe', 'url': 'https://api.github.com/repos/ANHIG/IMGTHLA/commits/d1dd2ac5e2b6a8abef9e33ed397807ece52a22fe', 'html_url': 'https://github.com/ANHIG/IMGTHLA/commit/d1dd2ac5e2b6a8abef9e33ed397807ece52a22fe'}]\n",
       "19                                                                                                                                                                                                                                                               [{'sha': '4863b8f0a070d70836dfbdc00bdf70aa7bb66345', 'url': 'https://api.github.com/repos/ANHIG/IMGTHLA/commits/4863b8f0a070d70836dfbdc00bdf70aa7bb66345', 'html_url': 'https://github.com/ANHIG/IMGTHLA/commit/4863b8f0a070d70836dfbdc00bdf70aa7bb66345'}]\n",
       "Name: parents, dtype: object"
      ]
     },
     "execution_count": 97,
     "metadata": {},
     "output_type": "execute_result"
    }
   ],
   "source": [
    "commit_refs_df['parents']"
   ]
  },
  {
   "cell_type": "code",
   "execution_count": 142,
   "metadata": {},
   "outputs": [
    {
     "name": "stdout",
     "output_type": "stream",
     "text": [
      "<class 'pandas.core.frame.DataFrame'>\n",
      "RangeIndex: 100 entries, 0 to 99\n",
      "Data columns (total 3 columns):\n",
      " #   Column          Non-Null Count  Dtype              \n",
      "---  ------          --------------  -----              \n",
      " 0   sha             100 non-null    object             \n",
      " 1   commit.message  100 non-null    object             \n",
      " 2   date            100 non-null    datetime64[ns, UTC]\n",
      "dtypes: datetime64[ns, UTC](1), object(2)\n",
      "memory usage: 2.5+ KB\n"
     ]
    }
   ],
   "source": [
    "commits_df.info()"
   ]
  },
  {
   "cell_type": "code",
   "execution_count": 143,
   "metadata": {},
   "outputs": [
    {
     "name": "stdout",
     "output_type": "stream",
     "text": [
      "<class 'pandas.core.frame.DataFrame'>\n",
      "RangeIndex: 20 entries, 0 to 19\n",
      "Data columns (total 3 columns):\n",
      " #   Column   Non-Null Count  Dtype \n",
      "---  ------   --------------  ----- \n",
      " 0   sha      20 non-null     object\n",
      " 1   files    20 non-null     object\n",
      " 2   parents  20 non-null     object\n",
      "dtypes: object(3)\n",
      "memory usage: 608.0+ bytes\n"
     ]
    }
   ],
   "source": [
    "commit_refs_df.info()"
   ]
  },
  {
   "cell_type": "code",
   "execution_count": 144,
   "metadata": {},
   "outputs": [],
   "source": [
    "# join commit dfs on sha\n",
    "commits_joined_df = commits_df.merge(commit_refs_df, on='sha', how='inner')"
   ]
  },
  {
   "cell_type": "code",
   "execution_count": 145,
   "metadata": {},
   "outputs": [
    {
     "data": {
      "text/plain": [
       "Index(['sha', 'commit.message', 'date', 'files', 'parents'], dtype='object')"
      ]
     },
     "execution_count": 145,
     "metadata": {},
     "output_type": "execute_result"
    }
   ],
   "source": [
    "commits_joined_df.columns"
   ]
  },
  {
   "cell_type": "code",
   "execution_count": 146,
   "metadata": {},
   "outputs": [],
   "source": [
    "commits_joined_df.loc[:10, ['sha', 'commit.message', 'date', 'parents', 'files']].to_csv(\"commits.csv\", index=False, header=True)"
   ]
  },
  {
   "cell_type": "code",
   "execution_count": 152,
   "metadata": {},
   "outputs": [
    {
     "data": {
      "text/plain": [
       "[{'sha': 'e941759874365cb152a3562c22d10847d10db326',\n",
       "  'url': 'https://api.github.com/repos/ANHIG/IMGTHLA/commits/e941759874365cb152a3562c22d10847d10db326',\n",
       "  'html_url': 'https://github.com/ANHIG/IMGTHLA/commit/e941759874365cb152a3562c22d10847d10db326'},\n",
       " {'sha': '36220a1c5c2d6954f4873a552544cc0e55b61d0a',\n",
       "  'url': 'https://api.github.com/repos/ANHIG/IMGTHLA/commits/36220a1c5c2d6954f4873a552544cc0e55b61d0a',\n",
       "  'html_url': 'https://github.com/ANHIG/IMGTHLA/commit/36220a1c5c2d6954f4873a552544cc0e55b61d0a'}]"
      ]
     },
     "execution_count": 152,
     "metadata": {},
     "output_type": "execute_result"
    }
   ],
   "source": [
    "commits_joined_df['parents'].iloc[5]"
   ]
  },
  {
   "cell_type": "code",
   "execution_count": 68,
   "metadata": {},
   "outputs": [],
   "source": [
    "# # # group commits by day\n",
    "# # commit_refs_df = pd.DataFrame(commit_refs)\n",
    "# # commit_refs_df[\"date\"] = pd.to_datetime(commit_refs_df[\"commit\"].apply(lambda x: x[\"author\"][\"date\"]))\n",
    "\n",
    "# # # extract message field\n",
    "# # commit_refs_df[\"message\"] = commit_refs_df[\"commit\"].apply(lambda x: x[\"message\"])\n",
    "\n",
    "# # convert commit.author.date to datetime and sort by date descending\n",
    "# commit_refs_df[\"date\"] = pd.to_datetime(commit_refs_df[\"commit.author.date\"])\n",
    "\n",
    "# # extract filename from files field\n",
    "# commit_refs_df[\"files\"] = commit_refs_df[\"files\"].apply(lambda x: [file[\"filename\"] for file in x])\n",
    "\n",
    "# # select columns\n",
    "# cols = [\n",
    "#     \"sha\",\n",
    "#     \"date\",\n",
    "#     \"files\",\n",
    "# ]\n",
    "\n",
    "# commit_refs_df = commit_refs_df[cols].explode(\"files\").dropna().sort_values(\"date\", ascending=False)"
   ]
  },
  {
   "cell_type": "code",
   "execution_count": 69,
   "metadata": {},
   "outputs": [],
   "source": [
    "# commit_refs_df.groupby(pd.Grouper(key=\"date\", freq=\"D\"))[[\"sha\", \"files\"]].count()"
   ]
  },
  {
   "cell_type": "code",
   "execution_count": 70,
   "metadata": {},
   "outputs": [],
   "source": [
    "# flatten_json(commit_refs_df.loc[0, \"commit\"])"
   ]
  },
  {
   "attachments": {},
   "cell_type": "markdown",
   "metadata": {},
   "source": [
    "## GitHub Graph Analysis"
   ]
  },
  {
   "cell_type": "code",
   "execution_count": 4,
   "metadata": {},
   "outputs": [],
   "source": [
    "import networkx as nx"
   ]
  },
  {
   "cell_type": "code",
   "execution_count": 153,
   "metadata": {},
   "outputs": [
    {
     "name": "stdout",
     "output_type": "stream",
     "text": [
      "<class 'pandas.core.frame.DataFrame'>\n",
      "RangeIndex: 7 entries, 0 to 6\n",
      "Data columns (total 5 columns):\n",
      " #   Column          Non-Null Count  Dtype              \n",
      "---  ------          --------------  -----              \n",
      " 0   sha             7 non-null      object             \n",
      " 1   commit.message  7 non-null      object             \n",
      " 2   date            7 non-null      datetime64[ns, UTC]\n",
      " 3   files           7 non-null      object             \n",
      " 4   parents         7 non-null      object             \n",
      "dtypes: datetime64[ns, UTC](1), object(4)\n",
      "memory usage: 408.0+ bytes\n"
     ]
    }
   ],
   "source": [
    "commits_joined_df.iloc[:7, :].info()"
   ]
  },
  {
   "cell_type": "code",
   "execution_count": 127,
   "metadata": {},
   "outputs": [],
   "source": [
    "# commits_joined_df.loc[:7, ['sha', 'commit', 'parents', 'files']].to_csv(\"commits_joined.csv\", index=False, header=True)"
   ]
  },
  {
   "cell_type": "code",
   "execution_count": 188,
   "metadata": {},
   "outputs": [],
   "source": [
    "commits_exp_df = commits_joined_df.explode(\"files\").explode(\"parents\")\n",
    "commits_exp_df.columns = ['sha', 'commit.message', 'date', 'file', 'parent']"
   ]
  },
  {
   "cell_type": "code",
   "execution_count": 189,
   "metadata": {},
   "outputs": [],
   "source": [
    "# unnest the fields in the file column as their own columns with prefix\n",
    "commits_exp_df = pd.json_normalize(commits_exp_df['file'], sep='.')\n"
   ]
  },
  {
   "cell_type": "code",
   "execution_count": 190,
   "metadata": {},
   "outputs": [
    {
     "data": {
      "text/html": [
       "<div>\n",
       "<style scoped>\n",
       "    .dataframe tbody tr th:only-of-type {\n",
       "        vertical-align: middle;\n",
       "    }\n",
       "\n",
       "    .dataframe tbody tr th {\n",
       "        vertical-align: top;\n",
       "    }\n",
       "\n",
       "    .dataframe thead th {\n",
       "        text-align: right;\n",
       "    }\n",
       "</style>\n",
       "<table border=\"1\" class=\"dataframe\">\n",
       "  <thead>\n",
       "    <tr style=\"text-align: right;\">\n",
       "      <th></th>\n",
       "      <th>sha</th>\n",
       "      <th>filename</th>\n",
       "      <th>status</th>\n",
       "      <th>additions</th>\n",
       "      <th>deletions</th>\n",
       "      <th>changes</th>\n",
       "      <th>blob_url</th>\n",
       "      <th>raw_url</th>\n",
       "      <th>contents_url</th>\n",
       "      <th>previous_filename</th>\n",
       "      <th>patch</th>\n",
       "    </tr>\n",
       "  </thead>\n",
       "  <tbody>\n",
       "    <tr>\n",
       "      <th>5</th>\n",
       "      <td>df1a5591eff92be3a94c065884d8264d308513c6</td>\n",
       "      <td>ihiw/hml/3.51.0_ReferenceSequences.fasta</td>\n",
       "      <td>renamed</td>\n",
       "      <td>0.0</td>\n",
       "      <td>0.0</td>\n",
       "      <td>0.0</td>\n",
       "      <td>https://github.com/ANHIG/IMGTHLA/blob/4b8432c7d56121c84d6ef1d75a1c7185c628c13d/ihiw%2Fhml%2F3.51.0_ReferenceSequences.fasta</td>\n",
       "      <td>https://github.com/ANHIG/IMGTHLA/raw/4b8432c7d56121c84d6ef1d75a1c7185c628c13d/ihiw%2Fhml%2F3.51.0_ReferenceSequences.fasta</td>\n",
       "      <td>https://api.github.com/repos/ANHIG/IMGTHLA/contents/ihiw%2Fhml%2F3.51.0_ReferenceSequences.fasta?ref=4b8432c7d56121c84d6ef1d75a1c7185c628c13d</td>\n",
       "      <td>ihiw/hml/3.50.0_ReferenceSequences.fasta</td>\n",
       "      <td>NaN</td>\n",
       "    </tr>\n",
       "    <tr>\n",
       "      <th>6</th>\n",
       "      <td>e23440821dc326f42b5444dbb1eac323650fae1e</td>\n",
       "      <td>ihiw/hml/3.51.0_Reference_Alleles.txt</td>\n",
       "      <td>renamed</td>\n",
       "      <td>3.0</td>\n",
       "      <td>3.0</td>\n",
       "      <td>6.0</td>\n",
       "      <td>https://github.com/ANHIG/IMGTHLA/blob/4b8432c7d56121c84d6ef1d75a1c7185c628c13d/ihiw%2Fhml%2F3.51.0_Reference_Alleles.txt</td>\n",
       "      <td>https://github.com/ANHIG/IMGTHLA/raw/4b8432c7d56121c84d6ef1d75a1c7185c628c13d/ihiw%2Fhml%2F3.51.0_Reference_Alleles.txt</td>\n",
       "      <td>https://api.github.com/repos/ANHIG/IMGTHLA/contents/ihiw%2Fhml%2F3.51.0_Reference_Alleles.txt?ref=4b8432c7d56121c84d6ef1d75a1c7185c628c13d</td>\n",
       "      <td>ihiw/hml/3.50.0_Reference_Alleles.txt</td>\n",
       "      <td>@@ -1,8 +1,8 @@\\n-# filename: 3.50.0_Reference_Alleles.txt\\n-# date: 2022-10-12\\n+# filename: 3.51.0_Reference_Alleles.txt\\n+# date: 2023-01-12\\n # version: 1.0\\n # author: Ben Matern &lt;B.M.Matern@umcutrecht.nl&gt;\\n-IPD-IMGT/HLA Database 3.50.0 Accession Number\\tLocus\\tIPD-IMGT/HLA Database 3.50.0 Allele Name\\tDescription\\n+IPD-IMGT/HLA Database 3.51.0 Accession Number\\tLocus\\tIPD-IMGT/HLA Database 3.51.0 Allele Name\\tDescription\\n HLA00001\\tHLA-A\\tHLA-A*01:01:01:01\\tHLA-A Locus Reference;A*01 Reference\\n HLA00005\\tHLA-A\\tHLA-A*02:01:01:01\\tA*02 Reference\\n HLA00037\\tHLA-A\\tHLA-A*03:01:01:01\\tA*03 Reference</td>\n",
       "    </tr>\n",
       "    <tr>\n",
       "      <th>7</th>\n",
       "      <td>NaN</td>\n",
       "      <td>NaN</td>\n",
       "      <td>NaN</td>\n",
       "      <td>NaN</td>\n",
       "      <td>NaN</td>\n",
       "      <td>NaN</td>\n",
       "      <td>NaN</td>\n",
       "      <td>NaN</td>\n",
       "      <td>NaN</td>\n",
       "      <td>NaN</td>\n",
       "      <td>NaN</td>\n",
       "    </tr>\n",
       "    <tr>\n",
       "      <th>8</th>\n",
       "      <td>09190c395f26163a25fa85d0666b35f9f8846f49</td>\n",
       "      <td>Allelelist_history.txt</td>\n",
       "      <td>modified</td>\n",
       "      <td>2.0</td>\n",
       "      <td>2.0</td>\n",
       "      <td>4.0</td>\n",
       "      <td>https://github.com/ANHIG/IMGTHLA/blob/50b790037030d958b662085c3f4cf34ba72a32ec/Allelelist_history.txt</td>\n",
       "      <td>https://github.com/ANHIG/IMGTHLA/raw/50b790037030d958b662085c3f4cf34ba72a32ec/Allelelist_history.txt</td>\n",
       "      <td>https://api.github.com/repos/ANHIG/IMGTHLA/contents/Allelelist_history.txt?ref=50b790037030d958b662085c3f4cf34ba72a32ec</td>\n",
       "      <td>NaN</td>\n",
       "      <td>@@ -1,6 +1,6 @@\\n # file: Allelelist_history.txt\\n-# date: \\n-# version: IPD-IMGT/HLA \\n+# date: 2022-10-12\\n+# version: IPD-IMGT/HLA 3.50.0\\n # origin: https://github.com/ANHIG/IMGTHLA/Allelelist_history.txt\\n # repository: https://raw.githubusercontent.com/ANHIG/IMGTHLA/Latest/Allelelist_history.txt\\n # author: WHO, Steven G. E. Marsh (steven.marsh@ucl.ac.uk)</td>\n",
       "    </tr>\n",
       "    <tr>\n",
       "      <th>9</th>\n",
       "      <td>09190c395f26163a25fa85d0666b35f9f8846f49</td>\n",
       "      <td>Allelelist_history.txt</td>\n",
       "      <td>modified</td>\n",
       "      <td>2.0</td>\n",
       "      <td>2.0</td>\n",
       "      <td>4.0</td>\n",
       "      <td>https://github.com/ANHIG/IMGTHLA/blob/50b790037030d958b662085c3f4cf34ba72a32ec/Allelelist_history.txt</td>\n",
       "      <td>https://github.com/ANHIG/IMGTHLA/raw/50b790037030d958b662085c3f4cf34ba72a32ec/Allelelist_history.txt</td>\n",
       "      <td>https://api.github.com/repos/ANHIG/IMGTHLA/contents/Allelelist_history.txt?ref=50b790037030d958b662085c3f4cf34ba72a32ec</td>\n",
       "      <td>NaN</td>\n",
       "      <td>@@ -1,6 +1,6 @@\\n # file: Allelelist_history.txt\\n-# date: \\n-# version: IPD-IMGT/HLA \\n+# date: 2022-10-12\\n+# version: IPD-IMGT/HLA 3.50.0\\n # origin: https://github.com/ANHIG/IMGTHLA/Allelelist_history.txt\\n # repository: https://raw.githubusercontent.com/ANHIG/IMGTHLA/Latest/Allelelist_history.txt\\n # author: WHO, Steven G. E. Marsh (steven.marsh@ucl.ac.uk)</td>\n",
       "    </tr>\n",
       "  </tbody>\n",
       "</table>\n",
       "</div>"
      ],
      "text/plain": [
       "                                        sha   \n",
       "5  df1a5591eff92be3a94c065884d8264d308513c6  \\\n",
       "6  e23440821dc326f42b5444dbb1eac323650fae1e   \n",
       "7                                       NaN   \n",
       "8  09190c395f26163a25fa85d0666b35f9f8846f49   \n",
       "9  09190c395f26163a25fa85d0666b35f9f8846f49   \n",
       "\n",
       "                                   filename    status  additions  deletions   \n",
       "5  ihiw/hml/3.51.0_ReferenceSequences.fasta   renamed        0.0        0.0  \\\n",
       "6     ihiw/hml/3.51.0_Reference_Alleles.txt   renamed        3.0        3.0   \n",
       "7                                       NaN       NaN        NaN        NaN   \n",
       "8                    Allelelist_history.txt  modified        2.0        2.0   \n",
       "9                    Allelelist_history.txt  modified        2.0        2.0   \n",
       "\n",
       "   changes   \n",
       "5      0.0  \\\n",
       "6      6.0   \n",
       "7      NaN   \n",
       "8      4.0   \n",
       "9      4.0   \n",
       "\n",
       "                                                                                                                      blob_url   \n",
       "5  https://github.com/ANHIG/IMGTHLA/blob/4b8432c7d56121c84d6ef1d75a1c7185c628c13d/ihiw%2Fhml%2F3.51.0_ReferenceSequences.fasta  \\\n",
       "6     https://github.com/ANHIG/IMGTHLA/blob/4b8432c7d56121c84d6ef1d75a1c7185c628c13d/ihiw%2Fhml%2F3.51.0_Reference_Alleles.txt   \n",
       "7                                                                                                                          NaN   \n",
       "8                        https://github.com/ANHIG/IMGTHLA/blob/50b790037030d958b662085c3f4cf34ba72a32ec/Allelelist_history.txt   \n",
       "9                        https://github.com/ANHIG/IMGTHLA/blob/50b790037030d958b662085c3f4cf34ba72a32ec/Allelelist_history.txt   \n",
       "\n",
       "                                                                                                                      raw_url   \n",
       "5  https://github.com/ANHIG/IMGTHLA/raw/4b8432c7d56121c84d6ef1d75a1c7185c628c13d/ihiw%2Fhml%2F3.51.0_ReferenceSequences.fasta  \\\n",
       "6     https://github.com/ANHIG/IMGTHLA/raw/4b8432c7d56121c84d6ef1d75a1c7185c628c13d/ihiw%2Fhml%2F3.51.0_Reference_Alleles.txt   \n",
       "7                                                                                                                         NaN   \n",
       "8                        https://github.com/ANHIG/IMGTHLA/raw/50b790037030d958b662085c3f4cf34ba72a32ec/Allelelist_history.txt   \n",
       "9                        https://github.com/ANHIG/IMGTHLA/raw/50b790037030d958b662085c3f4cf34ba72a32ec/Allelelist_history.txt   \n",
       "\n",
       "                                                                                                                                    contents_url   \n",
       "5  https://api.github.com/repos/ANHIG/IMGTHLA/contents/ihiw%2Fhml%2F3.51.0_ReferenceSequences.fasta?ref=4b8432c7d56121c84d6ef1d75a1c7185c628c13d  \\\n",
       "6     https://api.github.com/repos/ANHIG/IMGTHLA/contents/ihiw%2Fhml%2F3.51.0_Reference_Alleles.txt?ref=4b8432c7d56121c84d6ef1d75a1c7185c628c13d   \n",
       "7                                                                                                                                            NaN   \n",
       "8                        https://api.github.com/repos/ANHIG/IMGTHLA/contents/Allelelist_history.txt?ref=50b790037030d958b662085c3f4cf34ba72a32ec   \n",
       "9                        https://api.github.com/repos/ANHIG/IMGTHLA/contents/Allelelist_history.txt?ref=50b790037030d958b662085c3f4cf34ba72a32ec   \n",
       "\n",
       "                          previous_filename   \n",
       "5  ihiw/hml/3.50.0_ReferenceSequences.fasta  \\\n",
       "6     ihiw/hml/3.50.0_Reference_Alleles.txt   \n",
       "7                                       NaN   \n",
       "8                                       NaN   \n",
       "9                                       NaN   \n",
       "\n",
       "                                                                                                                                                                                                                                                                                                                                                                                                                                                                                                                                                                                                                                 patch  \n",
       "5                                                                                                                                                                                                                                                                                                                                                                                                                                                                                                                                                                                                                                  NaN  \n",
       "6  @@ -1,8 +1,8 @@\\n-# filename: 3.50.0_Reference_Alleles.txt\\n-# date: 2022-10-12\\n+# filename: 3.51.0_Reference_Alleles.txt\\n+# date: 2023-01-12\\n # version: 1.0\\n # author: Ben Matern <B.M.Matern@umcutrecht.nl>\\n-IPD-IMGT/HLA Database 3.50.0 Accession Number\\tLocus\\tIPD-IMGT/HLA Database 3.50.0 Allele Name\\tDescription\\n+IPD-IMGT/HLA Database 3.51.0 Accession Number\\tLocus\\tIPD-IMGT/HLA Database 3.51.0 Allele Name\\tDescription\\n HLA00001\\tHLA-A\\tHLA-A*01:01:01:01\\tHLA-A Locus Reference;A*01 Reference\\n HLA00005\\tHLA-A\\tHLA-A*02:01:01:01\\tA*02 Reference\\n HLA00037\\tHLA-A\\tHLA-A*03:01:01:01\\tA*03 Reference  \n",
       "7                                                                                                                                                                                                                                                                                                                                                                                                                                                                                                                                                                                                                                  NaN  \n",
       "8                                                                                                                                                                                                                                                          @@ -1,6 +1,6 @@\\n # file: Allelelist_history.txt\\n-# date: \\n-# version: IPD-IMGT/HLA \\n+# date: 2022-10-12\\n+# version: IPD-IMGT/HLA 3.50.0\\n # origin: https://github.com/ANHIG/IMGTHLA/Allelelist_history.txt\\n # repository: https://raw.githubusercontent.com/ANHIG/IMGTHLA/Latest/Allelelist_history.txt\\n # author: WHO, Steven G. E. Marsh (steven.marsh@ucl.ac.uk)  \n",
       "9                                                                                                                                                                                                                                                          @@ -1,6 +1,6 @@\\n # file: Allelelist_history.txt\\n-# date: \\n-# version: IPD-IMGT/HLA \\n+# date: 2022-10-12\\n+# version: IPD-IMGT/HLA 3.50.0\\n # origin: https://github.com/ANHIG/IMGTHLA/Allelelist_history.txt\\n # repository: https://raw.githubusercontent.com/ANHIG/IMGTHLA/Latest/Allelelist_history.txt\\n # author: WHO, Steven G. E. Marsh (steven.marsh@ucl.ac.uk)  "
      ]
     },
     "execution_count": 190,
     "metadata": {},
     "output_type": "execute_result"
    }
   ],
   "source": [
    "commits_exp_df.iloc[5:, :].head()"
   ]
  },
  {
   "cell_type": "code",
   "execution_count": 184,
   "metadata": {},
   "outputs": [
    {
     "data": {
      "text/plain": [
       "['sha',\n",
       " 'commit.message',\n",
       " 'date',\n",
       " 'file',\n",
       " 'parent',\n",
       " 0,\n",
       " 'sha',\n",
       " 'filename',\n",
       " 'status',\n",
       " 'additions',\n",
       " 'deletions',\n",
       " 'changes',\n",
       " 'blob_url',\n",
       " 'raw_url',\n",
       " 'contents_url',\n",
       " 'previous_filename',\n",
       " 'patch']"
      ]
     },
     "execution_count": 184,
     "metadata": {},
     "output_type": "execute_result"
    }
   ],
   "source": [
    "list(commits_exp_df.columns)"
   ]
  },
  {
   "cell_type": "code",
   "execution_count": null,
   "metadata": {},
   "outputs": [],
   "source": [
    "G = nx.from_pandas_edgelist(commits_exp_df, source='sha', target='file', edge_attr=[])"
   ]
  },
  {
   "cell_type": "code",
   "execution_count": 158,
   "metadata": {},
   "outputs": [
    {
     "data": {
      "text/plain": [
       "{'graph': {},\n",
       " '_node': {'38398a75e9762ff070d8e9bd714d074332646cd7': {'label': 'Merge pull request #334 from ANHIG/3520\\n\\nIPD-IMGT/HLA Release 3.52.0'},\n",
       "  'def376dc6955b339b17f0a4b840e80eb6b9c744b': {'label': 'IPD-IMGT/HLA Release 3.52.0'},\n",
       "  '5f2c562056f8ffa89aeea0631f2a52300ee0de17': {'label': 'Merge pull request #325 from ANHIG/3510\\n\\n3510'},\n",
       "  '4b8432c7d56121c84d6ef1d75a1c7185c628c13d': {'label': 'IPD-IMGT/HLA Database Release 3.51.0\\n\\nUpdated the ihiw folder for 3.51.0'},\n",
       "  '4486f5c623705c6a14d9eeaba7d155cff30cdb43': {'label': 'IPD-IMGT/HLA Release 3.51.0\\n\\nUpdates for 3.51.0'},\n",
       "  '50b790037030d958b662085c3f4cf34ba72a32ec': {'label': 'Merge pull request #323 from ANHIG/3500\\n\\nCorrected missing date and version field in Allelelist_history.txt'},\n",
       "  '36220a1c5c2d6954f4873a552544cc0e55b61d0a': {'label': 'Corrected missing date and version field in Allelelist_history.txt'},\n",
       "  'e941759874365cb152a3562c22d10847d10db326': {'label': 'Merge pull request #318 from ANHIG/3500\\n\\nhla.dat file for IPD-IMGT/HLA Release 3.50.0'},\n",
       "  '2d38d3313229fdc5f8aa00052a2db21b35be3d2d': {'label': 'hla.dat file for IPD-IMGT/HLA Release 3.50.0'},\n",
       "  '1ce31fc9e2805034578eff60a269c02176f03252': {'label': 'Merge pull request #317 from ANHIG/3500\\n\\nIPD-IMGT/HLA Release 3.50.0'},\n",
       "  '2c631a4b61d529ff1c0635750888f6f6d79c2703': {'label': 'IPD-IMGT/HLA Release 3.50.0'},\n",
       "  '12b4b94bb49b4640fa48a1182cc9b1e1fbf7e816': {'label': 'Merge pull request #315 from ANHIG/3490\\n\\nRemoval of duplicate \"KW   Human MHC;\" in hla.dat; Removal of empty 3…'},\n",
       "  '8f80f24d49797595d8a18b8d4d1f59846fbf3fe1': {'label': 'Removal of duplicate \"KW   Human MHC;\" in hla.dat; Removal of empty 3\\'UTR in DQB1*03:480Q'},\n",
       "  'a9680a9e80e2c119d4aa41f90e5f40cef6e7df02': {'label': 'Merge pull request #314 from ANHIG/3490\\n\\nCorrected DRA*01:01:01:01 P group (DRA*01:01P)'},\n",
       "  '1fd937e6c0ff8452f64152aec9632f0586f981d1': {'label': 'Corrected DRA*01:01:01:01 P group (DRA*01:01P)'},\n",
       "  '50e92c677f4cd547c32bb9305269a762a9595074': {'label': 'Merge pull request #310 from ANHIG/3490\\n\\nAdded additional space in DRB_prot.txt, DRB_nuc.txt and DRB1_gen.txt …'},\n",
       "  '8732e7d4739a911e01f69d2c5bda82ca15ca68a9': {'label': 'Added additional space in DRB_prot.txt, DRB_nuc.txt and DRB1_gen.txt due to DRB1*15:200:01:01N and DRB1*15:200:01:02N'},\n",
       "  '536e8833f3be4bbcffbfba43cd0b3043c5bf4068': {'label': 'Merge pull request #308 from ANHIG/3490\\n\\n3490'},\n",
       "  'c90cc62006b35061c8db4b6f8da1b86de7650b23': {'label': \"Merge branch 'Latest' into 3490\"},\n",
       "  '1a3be9a5d01a414854ff3bfacd5257c14adeefa2': {'label': 'IPD-IMGT/HLA Release 3.49.0'}},\n",
       " '_adj': {'38398a75e9762ff070d8e9bd714d074332646cd7': {},\n",
       "  'def376dc6955b339b17f0a4b840e80eb6b9c744b': {},\n",
       "  '5f2c562056f8ffa89aeea0631f2a52300ee0de17': {},\n",
       "  '4b8432c7d56121c84d6ef1d75a1c7185c628c13d': {},\n",
       "  '4486f5c623705c6a14d9eeaba7d155cff30cdb43': {},\n",
       "  '50b790037030d958b662085c3f4cf34ba72a32ec': {},\n",
       "  '36220a1c5c2d6954f4873a552544cc0e55b61d0a': {},\n",
       "  'e941759874365cb152a3562c22d10847d10db326': {},\n",
       "  '2d38d3313229fdc5f8aa00052a2db21b35be3d2d': {},\n",
       "  '1ce31fc9e2805034578eff60a269c02176f03252': {},\n",
       "  '2c631a4b61d529ff1c0635750888f6f6d79c2703': {},\n",
       "  '12b4b94bb49b4640fa48a1182cc9b1e1fbf7e816': {},\n",
       "  '8f80f24d49797595d8a18b8d4d1f59846fbf3fe1': {},\n",
       "  'a9680a9e80e2c119d4aa41f90e5f40cef6e7df02': {},\n",
       "  '1fd937e6c0ff8452f64152aec9632f0586f981d1': {},\n",
       "  '50e92c677f4cd547c32bb9305269a762a9595074': {},\n",
       "  '8732e7d4739a911e01f69d2c5bda82ca15ca68a9': {},\n",
       "  '536e8833f3be4bbcffbfba43cd0b3043c5bf4068': {},\n",
       "  'c90cc62006b35061c8db4b6f8da1b86de7650b23': {},\n",
       "  '1a3be9a5d01a414854ff3bfacd5257c14adeefa2': {}},\n",
       " '_succ': {'38398a75e9762ff070d8e9bd714d074332646cd7': {},\n",
       "  'def376dc6955b339b17f0a4b840e80eb6b9c744b': {},\n",
       "  '5f2c562056f8ffa89aeea0631f2a52300ee0de17': {},\n",
       "  '4b8432c7d56121c84d6ef1d75a1c7185c628c13d': {},\n",
       "  '4486f5c623705c6a14d9eeaba7d155cff30cdb43': {},\n",
       "  '50b790037030d958b662085c3f4cf34ba72a32ec': {},\n",
       "  '36220a1c5c2d6954f4873a552544cc0e55b61d0a': {},\n",
       "  'e941759874365cb152a3562c22d10847d10db326': {},\n",
       "  '2d38d3313229fdc5f8aa00052a2db21b35be3d2d': {},\n",
       "  '1ce31fc9e2805034578eff60a269c02176f03252': {},\n",
       "  '2c631a4b61d529ff1c0635750888f6f6d79c2703': {},\n",
       "  '12b4b94bb49b4640fa48a1182cc9b1e1fbf7e816': {},\n",
       "  '8f80f24d49797595d8a18b8d4d1f59846fbf3fe1': {},\n",
       "  'a9680a9e80e2c119d4aa41f90e5f40cef6e7df02': {},\n",
       "  '1fd937e6c0ff8452f64152aec9632f0586f981d1': {},\n",
       "  '50e92c677f4cd547c32bb9305269a762a9595074': {},\n",
       "  '8732e7d4739a911e01f69d2c5bda82ca15ca68a9': {},\n",
       "  '536e8833f3be4bbcffbfba43cd0b3043c5bf4068': {},\n",
       "  'c90cc62006b35061c8db4b6f8da1b86de7650b23': {},\n",
       "  '1a3be9a5d01a414854ff3bfacd5257c14adeefa2': {}},\n",
       " '_pred': {'38398a75e9762ff070d8e9bd714d074332646cd7': {},\n",
       "  'def376dc6955b339b17f0a4b840e80eb6b9c744b': {},\n",
       "  '5f2c562056f8ffa89aeea0631f2a52300ee0de17': {},\n",
       "  '4b8432c7d56121c84d6ef1d75a1c7185c628c13d': {},\n",
       "  '4486f5c623705c6a14d9eeaba7d155cff30cdb43': {},\n",
       "  '50b790037030d958b662085c3f4cf34ba72a32ec': {},\n",
       "  '36220a1c5c2d6954f4873a552544cc0e55b61d0a': {},\n",
       "  'e941759874365cb152a3562c22d10847d10db326': {},\n",
       "  '2d38d3313229fdc5f8aa00052a2db21b35be3d2d': {},\n",
       "  '1ce31fc9e2805034578eff60a269c02176f03252': {},\n",
       "  '2c631a4b61d529ff1c0635750888f6f6d79c2703': {},\n",
       "  '12b4b94bb49b4640fa48a1182cc9b1e1fbf7e816': {},\n",
       "  '8f80f24d49797595d8a18b8d4d1f59846fbf3fe1': {},\n",
       "  'a9680a9e80e2c119d4aa41f90e5f40cef6e7df02': {},\n",
       "  '1fd937e6c0ff8452f64152aec9632f0586f981d1': {},\n",
       "  '50e92c677f4cd547c32bb9305269a762a9595074': {},\n",
       "  '8732e7d4739a911e01f69d2c5bda82ca15ca68a9': {},\n",
       "  '536e8833f3be4bbcffbfba43cd0b3043c5bf4068': {},\n",
       "  'c90cc62006b35061c8db4b6f8da1b86de7650b23': {},\n",
       "  '1a3be9a5d01a414854ff3bfacd5257c14adeefa2': {}}}"
      ]
     },
     "execution_count": 158,
     "metadata": {},
     "output_type": "execute_result"
    }
   ],
   "source": [
    "vars(G)"
   ]
  },
  {
   "cell_type": "code",
   "execution_count": null,
   "metadata": {},
   "outputs": [],
   "source": []
  }
 ],
 "metadata": {
  "kernelspec": {
   "display_name": ".venv",
   "language": "python",
   "name": "python3"
  },
  "language_info": {
   "codemirror_mode": {
    "name": "ipython",
    "version": 3
   },
   "file_extension": ".py",
   "mimetype": "text/x-python",
   "name": "python",
   "nbconvert_exporter": "python",
   "pygments_lexer": "ipython3",
   "version": "3.10.13"
  },
  "orig_nbformat": 4
 },
 "nbformat": 4,
 "nbformat_minor": 2
}
